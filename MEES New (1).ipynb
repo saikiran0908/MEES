{
 "cells": [
  {
   "cell_type": "code",
   "execution_count": 2,
   "metadata": {},
   "outputs": [],
   "source": [
    "import numpy as np\n",
    "import pandas as pd\n",
    "import seaborn as sns\n",
    "MEESSheet = pd.read_excel(\"D:\\\\MEES.xlsx\")\n",
    "MEESSheet['Retained']=MEESSheet['Retained in same district since graduation']"
   ]
  },
  {
   "cell_type": "code",
   "execution_count": 2,
   "metadata": {},
   "outputs": [
    {
     "data": {
      "text/plain": [
       "0     24.0\n",
       "1     24.0\n",
       "2     23.0\n",
       "3     21.0\n",
       "4     15.0\n",
       "      ... \n",
       "64    20.0\n",
       "65    24.0\n",
       "66    21.0\n",
       "67    24.0\n",
       "68    24.0\n",
       "Name: MEES Total, Length: 69, dtype: float64"
      ]
     },
     "execution_count": 2,
     "metadata": {},
     "output_type": "execute_result"
    }
   ],
   "source": [
    "MEESSheet['At Least One High need content area?']\n",
    "MEESSheet['Retained in same district since graduation']\n",
    "MEESSheet['DiversityTotal']\n",
    "MEESSheet['ELL']\n",
    "MEESSheet['DivQuot']\n",
    "MEESSheet['Gender']\n",
    "MEESSheet['Non White']\n",
    "MEESSheet['CT1.2']\n",
    "MEESSheet['CT2.4']\n",
    "MEESSheet['CT5.1']\n",
    "MEESSheet['CT7.2']\n",
    "MEESSheet['PS1.2']\n",
    "MEESSheet['PS2.4']\n",
    "MEESSheet['PS5.1']\n",
    "MEESSheet['PS7.2']\n",
    "MEESSheet['MEES Total']\n"
   ]
  },
  {
   "cell_type": "code",
   "execution_count": 3,
   "metadata": {},
   "outputs": [],
   "source": [
    "MEESSheet['Highneeds']=MEESSheet['At Least One High need content area?']"
   ]
  },
  {
   "cell_type": "code",
   "execution_count": 4,
   "metadata": {},
   "outputs": [],
   "source": [
    "highneeds=(MEESSheet['Highneeds'].groupby(MEESSheet['Highneeds']).count()/MEESSheet['Highneeds'].count())*100"
   ]
  },
  {
   "cell_type": "code",
   "execution_count": 5,
   "metadata": {},
   "outputs": [],
   "source": [
    "highneeds=highneeds.round(2).tolist()"
   ]
  },
  {
   "cell_type": "code",
   "execution_count": 6,
   "metadata": {},
   "outputs": [
    {
     "data": {
      "text/plain": [
       "[31.88, 68.12]"
      ]
     },
     "execution_count": 6,
     "metadata": {},
     "output_type": "execute_result"
    }
   ],
   "source": [
    "highneeds.sort()\n",
    "highneeds"
   ]
  },
  {
   "cell_type": "code",
   "execution_count": 7,
   "metadata": {},
   "outputs": [
    {
     "data": {
      "text/plain": [
       "69"
      ]
     },
     "execution_count": 7,
     "metadata": {},
     "output_type": "execute_result"
    }
   ],
   "source": [
    "MEESSheet['Highneeds'].count()"
   ]
  },
  {
   "cell_type": "code",
   "execution_count": 8,
   "metadata": {},
   "outputs": [],
   "source": [
    "term_val=['High Needs Area','Not High Needs Area']"
   ]
  },
  {
   "cell_type": "code",
   "execution_count": 9,
   "metadata": {},
   "outputs": [
    {
     "data": {
      "image/png": "[encoded data removed]",
      "text/plain": [
       "<Figure size 432x288 with 1 Axes>"
      ]
     },
     "metadata": {},
     "output_type": "display_data"
    }
   ],
   "source": [
    "from textwrap import wrap\n",
    "import matplotlib.patches as mpatches\n",
    "import matplotlib.pyplot as plt\n",
    "%matplotlib inline\n",
    "plt.style.use('ggplot')\n",
    "\n",
    "y_pos = [0,0.5]\n",
    "\n",
    "#main values, change height value when necessary\n",
    "height=highneeds\n",
    "width=0.2\n",
    "\n",
    "fig, ax = plt.subplots()\n",
    "rects1 = ax.bar(y_pos , height, width, color=['Green','red']) #bars colors\n",
    "\n",
    "#y-axis label, change the value in quotes when necessary\n",
    "ax.set_ylabel('% of Faculty',color='black')\n",
    "\n",
    "#Type in the title you want. Depending on where you want the next line change the number after the title\n",
    "ax.set_title(\"\\n\".join(wrap(\"Percentage of Northwest AY2016 Completers in Missouri Public Schools 2016-2019 Who Taught in High Needs Content Areas vs. Other Areas (n=%i)\"%MEESSheet['Highneeds'].count(), 70)),fontsize=11)\n",
    " \n",
    "# Values on X and Y Axis\n",
    "plt.xticks(y_pos, term_val,color='black')\n",
    "#(inclusive,exclusive,countskip) change the yaxis values when necessary\n",
    "plt.yticks(np.arange(0,101,10),color='black',labels=('0%','10%','20%','30%','40%','50%','60%','70%','80%','90%','100%'))\n",
    "\n",
    "\n",
    "# Labels on top of bars\n",
    "def autolabel(rects):\n",
    "    for rect in rects:\n",
    "        height = rect.get_height()\n",
    "        ax.annotate('{}%'.format(height),\n",
    "                    xy=(rect.get_x() + rect.get_width() / 2, height),ha='center', va='bottom')\n",
    "autolabel(rects1)\n",
    "\n",
    "plt.show()\n"
   ]
  },
  {
   "cell_type": "code",
   "execution_count": null,
   "metadata": {},
   "outputs": [],
   "source": [
    "Retained_highneeds=MEESSheet.groupby(['Retained','Highneeds'])['Highneeds'].count().reset_index(name=\"count\")\n",
    "Retained_highneeds['count'][3]"
   ]
  },
  {
   "cell_type": "code",
   "execution_count": null,
   "metadata": {},
   "outputs": [],
   "source": [
    "firstval=[Retained_highneeds['count'][0],Retained_highneeds['count'][2]]\n",
    "secondval=[Retained_highneeds['count'][1],Retained_highneeds['count'][3]]"
   ]
  },
  {
   "cell_type": "code",
   "execution_count": null,
   "metadata": {},
   "outputs": [],
   "source": [
    "val1=(Retained_highneeds['count'][:2]/Retained_highneeds['count'][:2].sum()*100).round(2).tolist()\n",
    "val2=(Retained_highneeds['count'][2:]/Retained_highneeds['count'][2:].sum()*100).round(2).tolist()\n",
    "values=[val1[1],val2[1]]\n",
    "termval=['Not Retained','Retained']"
   ]
  },
  {
   "cell_type": "code",
   "execution_count": null,
   "metadata": {},
   "outputs": [],
   "source": [
    "termval=['Not Retained','Retained']"
   ]
  },
  {
   "cell_type": "code",
   "execution_count": null,
   "metadata": {},
   "outputs": [],
   "source": [
    "\n",
    "from textwrap import wrap\n",
    "labels = termval\n",
    "bar1=firstval\n",
    "bar2=secondval\n",
    "x = np.arange(len(labels))# the label locations\n",
    "\n",
    "width = 0.3  # the width of the bars\n",
    "\n",
    "fig, ax = plt.subplots()\n",
    "rects1 = ax.bar(x - width/2, bar1, width, label='Not High Needs',color='blue')\n",
    "rects2 = ax.bar(x + width/2, bar2, width, label='High Needs',color='red')\n",
    "\n",
    "# Add some text for labels, title and custom x-axis tick labels, etc.\n",
    "ax.set_ylabel('No. of Students',color='black')\n",
    "#ax.set_title('Race of Teacher Ed Admittances, White vs. Other, 2018 vs. 2019 Subpop',fontsize=9)\n",
    "title = ax.set_title(\"\\n\".join(wrap(\"Teachers of High Needs Content Area Disaggregrated by Retained\", 30)),fontsize=11)\n",
    "\n",
    "ax.set_xticks(x)\n",
    "plt.yticks(np.arange(0,101,10),color='black')\n",
    "ax.set_xticklabels(labels,color='black')\n",
    "ax.legend(loc='upper left')\n",
    "\n",
    "\n",
    "def autolabel(rects):\n",
    "    for rect in rects:\n",
    "        height = rect.get_height()\n",
    "        ax.annotate('{}%'.format(height),\n",
    "                    xy=(rect.get_x() + rect.get_width() / 2, height),ha='center', va='bottom')\n",
    "\n",
    "\n",
    "autolabel(rects1)\n",
    "autolabel(rects2)\n",
    "\n",
    "\n",
    "\n",
    "plt.show()"
   ]
  },
  {
   "cell_type": "code",
   "execution_count": 17,
   "metadata": {},
   "outputs": [
    {
     "data": {
      "text/plain": [
       "69"
      ]
     },
     "execution_count": 17,
     "metadata": {},
     "output_type": "execute_result"
    }
   ],
   "source": [
    "MEESSheet['At Least One High need content area?'].count()"
   ]
  },
  {
   "cell_type": "code",
   "execution_count": null,
   "metadata": {},
   "outputs": [],
   "source": [
    "values[]\n",
    "values[0]=(MEESSheet['Retained'].value_counts()[1]/MEESSheet['At Least One High need content area?'].count()*100).round(2)"
   ]
  },
  {
   "cell_type": "code",
   "execution_count": 19,
   "metadata": {},
   "outputs": [],
   "source": [
    "termval=['Teachers Retained','Teachers Retained - High Needs']"
   ]
  },
  {
   "cell_type": "code",
   "execution_count": null,
   "metadata": {},
   "outputs": [],
   "source": [
    "from textwrap import wrap\n",
    "import matplotlib.patches as mpatches\n",
    "import matplotlib.pyplot as plt\n",
    "%matplotlib inline\n",
    "plt.style.use('ggplot')\n",
    "\n",
    "y_pos = [0,0.3]\n",
    "\n",
    "#main values, change height value when necessary\n",
    "height=values\n",
    "width=0.1\n",
    "labels=termval\n",
    "\n",
    "fig, ax = plt.subplots()\n",
    "rects1 = ax.bar(y_pos , height, width, color=['Green','blue']) #bars colors\n",
    "\n",
    "#y-axis label, change the value in quotes when necessary\n",
    "ax.set_ylabel('% of Faculty',color='black')\n",
    "\n",
    "#Type in the title you want. Depending on where you want the next line change the number after the title\n",
    "ax.set_title(\"\\n\".join(wrap(\"Teachers Retained, High Needs Content Areas vs. Overall, Northwest AY2016 Completers Who Worked in Missouri Public Schools 2016-2019 (n=69 and 13 respectively)\", 65)),fontsize=11)\n",
    " \n",
    "# Values on X and Y Axis\n",
    "plt.xticks(y_pos, term_val,color='black')\n",
    "ax.set_xticklabels(labels,color='black')\n",
    "#(inclusive,exclusive,countskip) change the yaxis values when necessary\n",
    "plt.yticks(np.arange(0,101,10),color='black')\n",
    "\n",
    "\n",
    "# Labels on top of bars\n",
    "def autolabel(rects):\n",
    "    for rect in rects:\n",
    "        height = rect.get_height()\n",
    "        ax.annotate('{}%'.format(height),\n",
    "                    xy=(rect.get_x() + rect.get_width() / 2, height),ha='center', va='bottom')\n",
    "autolabel(rects1)\n",
    "\n",
    "plt.show()\n"
   ]
  },
  {
   "cell_type": "code",
   "execution_count": 21,
   "metadata": {},
   "outputs": [
    {
     "data": {
      "text/plain": [
       "69"
      ]
     },
     "execution_count": 21,
     "metadata": {},
     "output_type": "execute_result"
    }
   ],
   "source": [
    "MEESSheet['YEARS_IN_DISTRICT'].count()"
   ]
  },
  {
   "cell_type": "code",
   "execution_count": 22,
   "metadata": {},
   "outputs": [],
   "source": [
    "DistrictYears=MEESSheet['YEARS_IN_DISTRICT'].mean()\n",
    "MoYears=MEESSheet['YEARS_IN_MO'].mean()\n",
    "PublicEDYears=MEESSheet['YEARS_IN_PUBLIC_ED'].mean()"
   ]
  },
  {
   "cell_type": "code",
   "execution_count": 23,
   "metadata": {},
   "outputs": [
    {
     "data": {
      "text/plain": [
       "3.1449275362318843"
      ]
     },
     "execution_count": 23,
     "metadata": {},
     "output_type": "execute_result"
    }
   ],
   "source": [
    "PublicEDYears"
   ]
  },
  {
   "cell_type": "code",
   "execution_count": 24,
   "metadata": {},
   "outputs": [],
   "source": [
    "term_val=['Years in District','Years in Missouri','Years in Public Education']"
   ]
  },
  {
   "cell_type": "code",
   "execution_count": 25,
   "metadata": {},
   "outputs": [
    {
     "data": {
      "text/plain": [
       "[2.6666666666666665, 3.0579710144927534, 3.1449275362318843]"
      ]
     },
     "execution_count": 25,
     "metadata": {},
     "output_type": "execute_result"
    }
   ],
   "source": [
    "TeacherYears=[DistrictYears,MoYears,PublicEDYears]\n",
    "TeacherYears"
   ]
  },
  {
   "cell_type": "code",
   "execution_count": 26,
   "metadata": {},
   "outputs": [],
   "source": [
    "TeacherYears = list(np.around(np.array(TeacherYears),2))"
   ]
  },
  {
   "cell_type": "code",
   "execution_count": 27,
   "metadata": {},
   "outputs": [
    {
     "data": {
      "text/plain": [
       "[2.67, 3.06, 3.14]"
      ]
     },
     "execution_count": 27,
     "metadata": {},
     "output_type": "execute_result"
    }
   ],
   "source": [
    "TeacherYears"
   ]
  },
  {
   "cell_type": "code",
   "execution_count": 28,
   "metadata": {},
   "outputs": [
    {
     "data": {
      "image/png": "[encoded data removed]",
      "text/plain": [
       "<Figure size 432x288 with 1 Axes>"
      ]
     },
     "metadata": {},
     "output_type": "display_data"
    }
   ],
   "source": [
    "from textwrap import wrap\n",
    "import matplotlib.patches as mpatches\n",
    "import matplotlib.pyplot as plt\n",
    "%matplotlib inline\n",
    "plt.style.use('ggplot')\n",
    "\n",
    "y_pos = np.arange(len(term_val)) \n",
    "\n",
    "#main values, change height value when necessary\n",
    "height=TeacherYears\n",
    "width=0.4\n",
    "\n",
    "fig, ax = plt.subplots()\n",
    "rects1 = ax.bar(y_pos , height, width, color=['Yellow','Green','red']) #bars colors\n",
    "\n",
    "#y-axis label, change the value in quotes when necessary\n",
    "ax.set_ylabel('No. of Years',color='black')\n",
    "\n",
    "#Type in the title you want. Depending on where you want the next line change the number after the title\n",
    "ax.set_title(\"\\n\".join(wrap(\"Average Years in Education: Northwest 2016 Completers (n=%i)\"%MEESSheet['Highneeds'].count(), 55)),fontsize=11)\n",
    " \n",
    "# Values on X and Y Axis\n",
    "plt.xticks(y_pos, term_val,color='black',rotation=90)\n",
    "#(inclusive,exclusive,countskip) change the yaxis values when necessary\n",
    "plt.yticks(np.arange(0,6,1),color='black')\n",
    "\n",
    "\n",
    "# Labels on top of bars\n",
    "def autolabel(rects):\n",
    "    for rect in rects:\n",
    "        height = rect.get_height()\n",
    "        ax.annotate('{}'.format(height),\n",
    "                    xy=(rect.get_x() + rect.get_width() / 2, height),ha='center', va='bottom')\n",
    "autolabel(rects1)\n",
    "#fig.tight_layout()\n",
    "plt.show()\n"
   ]
  },
  {
   "cell_type": "code",
   "execution_count": 29,
   "metadata": {},
   "outputs": [
    {
     "data": {
      "image/png": "[encoded data removed]",
      "text/plain": [
       "<Figure size 432x288 with 1 Axes>"
      ]
     },
     "metadata": {},
     "output_type": "display_data"
    }
   ],
   "source": [
    "from textwrap import wrap\n",
    "\n",
    "# libraries\n",
    "import numpy as np\n",
    "import matplotlib.pyplot as plt\n",
    " \n",
    "# Make fake dataset\n",
    "height = TeacherYears\n",
    "bars = term_val\n",
    "y_pos = np.arange(len(bars))\n",
    " \n",
    "# Create horizontal bars\n",
    "plt.barh(y_pos, height,color=['Yellow','Green','red'])\n",
    "\n",
    "plt.title(\"\\n\".join(wrap(\"Average Years in Education: Northwest 2016 Completers (n=%i)\"%MEESSheet['Highneeds'].count(), 55)),fontsize=11)\n",
    " \n",
    "# Create names on the y-axis\n",
    "plt.yticks(y_pos, bars,color='black')\n",
    "plt.xticks(np.arange(0,6,1),color='black')\n",
    "plt.xlabel('No. of Years',color='black')\n",
    "\n",
    "for i, v in enumerate(TeacherYears):\n",
    "    #ax.text(v + 3, i + .25, str(v), color='black', fontweight='bold')\n",
    "    plt.text(v, i, \" \"+str(v), color='black', va='center')\n",
    "\n",
    "# Show graphic\n",
    "\n",
    "plt.show()\n"
   ]
  },
  {
   "cell_type": "code",
   "execution_count": null,
   "metadata": {},
   "outputs": [],
   "source": []
  },
  {
   "cell_type": "code",
   "execution_count": null,
   "metadata": {},
   "outputs": [],
   "source": []
  },
  {
   "cell_type": "code",
   "execution_count": null,
   "metadata": {},
   "outputs": [],
   "source": []
  },
  {
   "cell_type": "code",
   "execution_count": null,
   "metadata": {},
   "outputs": [],
   "source": []
  },
  {
   "cell_type": "code",
   "execution_count": 30,
   "metadata": {},
   "outputs": [
    {
     "data": {
      "text/plain": [
       "Retained\n",
       "0    28\n",
       "1    41\n",
       "Name: Retained, dtype: int64"
      ]
     },
     "execution_count": 30,
     "metadata": {},
     "output_type": "execute_result"
    }
   ],
   "source": [
    "retained_val=MEESSheet['Retained'].groupby(MEESSheet['Retained']).count()\n",
    "retained_val"
   ]
  },
  {
   "cell_type": "code",
   "execution_count": 31,
   "metadata": {},
   "outputs": [
    {
     "data": {
      "text/plain": [
       "numpy.int32"
      ]
     },
     "execution_count": 31,
     "metadata": {},
     "output_type": "execute_result"
    }
   ],
   "source": [
    "type(MEESSheet['Retained'].count())"
   ]
  },
  {
   "cell_type": "code",
   "execution_count": 32,
   "metadata": {},
   "outputs": [],
   "source": [
    "#for number\n",
    "retained_val=retained_val.tolist()"
   ]
  },
  {
   "cell_type": "code",
   "execution_count": 33,
   "metadata": {},
   "outputs": [],
   "source": [
    "retained=((retained_val/MEESSheet['Retained'].count())*100).round(2).tolist()"
   ]
  },
  {
   "cell_type": "code",
   "execution_count": 34,
   "metadata": {},
   "outputs": [],
   "source": [
    "term_val=['Not Retained','Retained']"
   ]
  },
  {
   "cell_type": "code",
   "execution_count": 35,
   "metadata": {},
   "outputs": [
    {
     "data": {
      "image/png": "[encoded data removed]",
      "text/plain": [
       "<Figure size 432x288 with 1 Axes>"
      ]
     },
     "metadata": {},
     "output_type": "display_data"
    }
   ],
   "source": [
    "from textwrap import wrap\n",
    "import matplotlib.patches as mpatches\n",
    "import matplotlib.pyplot as plt\n",
    "%matplotlib inline\n",
    "plt.style.use('ggplot')\n",
    "\n",
    "y_pos = [1,1.5]\n",
    "\n",
    "#main values, change height value when necessary\n",
    "height=retained\n",
    "width=0.2\n",
    "\n",
    "fig, ax = plt.subplots()\n",
    "rects1 = ax.bar(y_pos , height, width, color=['Yellow','Green']) #bars colors\n",
    "\n",
    "#y-axis label, change the value in quotes when necessary\n",
    "ax.set_ylabel('Percentage',color='black')\n",
    "\n",
    "#Type in the title you want. Depending on where you want the next line change the number after the title\n",
    "ax.set_title(\"\\n\".join(wrap(\"Teachers Retained in Initial Placement vs. Teachers Not Retained in Initial Placement, Northwest AY2016 Completers Who Worked in Missouri Public Schools 2016-2019 (n=%i)\"%MEESSheet['Retained'].count(), 65)),fontsize=11)\n",
    " \n",
    "# Values on X and Y Axis\n",
    "plt.xticks(y_pos, term_val,color='black')\n",
    "#(inclusive,exclusive,countskip) change the yaxis values when necessary\n",
    "plt.yticks(np.arange(0,101,20),color='black')\n",
    "\n",
    "\n",
    "# Labels on top of bars\n",
    "def autolabel(rects):\n",
    "    for rect in rects:\n",
    "        height = rect.get_height()\n",
    "        ax.annotate('{}%'.format(height),\n",
    "                    xy=(rect.get_x() + rect.get_width() / 2, height),ha='center', va='bottom')\n",
    "autolabel(rects1)\n",
    "#fig.tight_layout()\n",
    "plt.show()\n"
   ]
  },
  {
   "cell_type": "code",
   "execution_count": null,
   "metadata": {},
   "outputs": [],
   "source": []
  },
  {
   "cell_type": "code",
   "execution_count": 36,
   "metadata": {},
   "outputs": [
    {
     "data": {
      "text/plain": [
       "0     A\n",
       "1     W\n",
       "2     W\n",
       "3     W\n",
       "4     W\n",
       "     ..\n",
       "64    W\n",
       "65    W\n",
       "66    W\n",
       "67    W\n",
       "68    W\n",
       "Name: RaceEthnicity, Length: 69, dtype: object"
      ]
     },
     "execution_count": 36,
     "metadata": {},
     "output_type": "execute_result"
    }
   ],
   "source": [
    "MEESSheet['Gender']\n",
    "MEESSheet['Non White']\n",
    "MEESSheet['RaceEthnicity']"
   ]
  },
  {
   "cell_type": "code",
   "execution_count": 37,
   "metadata": {},
   "outputs": [
    {
     "data": {
      "text/plain": [
       "[81.16, 18.84]"
      ]
     },
     "execution_count": 37,
     "metadata": {},
     "output_type": "execute_result"
    }
   ],
   "source": [
    "Genderval=((MEESSheet['Gender'].groupby(MEESSheet['Gender']).count()/MEESSheet['Gender'].count())*100).round(2).tolist()\n",
    "Genderval"
   ]
  },
  {
   "cell_type": "code",
   "execution_count": 38,
   "metadata": {},
   "outputs": [
    {
     "data": {
      "text/plain": [
       "Gender\n",
       "F    56\n",
       "M    13\n",
       "Name: Gender, dtype: int64"
      ]
     },
     "execution_count": 38,
     "metadata": {},
     "output_type": "execute_result"
    }
   ],
   "source": [
    "MEESSheet['Gender'].groupby(MEESSheet['Gender']).count()"
   ]
  },
  {
   "cell_type": "code",
   "execution_count": 39,
   "metadata": {},
   "outputs": [
    {
     "data": {
      "text/plain": [
       "[92.75, 7.25]"
      ]
     },
     "execution_count": 39,
     "metadata": {},
     "output_type": "execute_result"
    }
   ],
   "source": [
    "Nonwhite=((MEESSheet['Non White'].groupby(MEESSheet['Non White']).count()/MEESSheet['Non White'].count())*100).round(2).tolist()\n",
    "Nonwhite"
   ]
  },
  {
   "cell_type": "code",
   "execution_count": 40,
   "metadata": {},
   "outputs": [
    {
     "data": {
      "text/plain": [
       "Non White\n",
       "0    64\n",
       "1     5\n",
       "Name: Non White, dtype: int64"
      ]
     },
     "execution_count": 40,
     "metadata": {},
     "output_type": "execute_result"
    }
   ],
   "source": [
    "MEESSheet['Non White'].groupby(MEESSheet['Non White']).count()"
   ]
  },
  {
   "cell_type": "code",
   "execution_count": 41,
   "metadata": {},
   "outputs": [
    {
     "data": {
      "text/plain": [
       "Gender\n",
       "F    56\n",
       "M    13\n",
       "Name: Gender, dtype: int64"
      ]
     },
     "execution_count": 41,
     "metadata": {},
     "output_type": "execute_result"
    }
   ],
   "source": [
    "MEESSheet['Gender'].groupby(MEESSheet['Gender']).count()"
   ]
  },
  {
   "cell_type": "code",
   "execution_count": null,
   "metadata": {},
   "outputs": [],
   "source": []
  },
  {
   "cell_type": "code",
   "execution_count": 42,
   "metadata": {},
   "outputs": [
    {
     "data": {
      "text/plain": [
       "[2.9, 4.35, 92.75]"
      ]
     },
     "execution_count": 42,
     "metadata": {},
     "output_type": "execute_result"
    }
   ],
   "source": [
    "Race=((MEESSheet['RaceEthnicity'].groupby(MEESSheet['RaceEthnicity']).count()/MEESSheet['RaceEthnicity'].count())*100).round(2).tolist()\n",
    "Race"
   ]
  },
  {
   "cell_type": "code",
   "execution_count": 43,
   "metadata": {},
   "outputs": [
    {
     "data": {
      "text/plain": [
       "RaceEthnicity\n",
       "A     2\n",
       "O     3\n",
       "W    64\n",
       "Name: RaceEthnicity, dtype: int64"
      ]
     },
     "execution_count": 43,
     "metadata": {},
     "output_type": "execute_result"
    }
   ],
   "source": [
    "MEESSheet['RaceEthnicity'].groupby(MEESSheet['RaceEthnicity']).count()"
   ]
  },
  {
   "cell_type": "code",
   "execution_count": 44,
   "metadata": {},
   "outputs": [],
   "source": [
    "term_val=['Female','Male']"
   ]
  },
  {
   "cell_type": "code",
   "execution_count": 45,
   "metadata": {},
   "outputs": [],
   "source": [
    "zeroval=[Genderval[0],Nonwhite[0],Race[0]]\n",
    "firstval=[Genderval[1],Nonwhite[1],Race[1]]"
   ]
  },
  {
   "cell_type": "code",
   "execution_count": 46,
   "metadata": {},
   "outputs": [
    {
     "data": {
      "image/png": "[encoded data removed]",
      "text/plain": [
       "<Figure size 432x288 with 1 Axes>"
      ]
     },
     "metadata": {},
     "output_type": "display_data"
    }
   ],
   "source": [
    "from textwrap import wrap\n",
    "import matplotlib.patches as mpatches\n",
    "import matplotlib.pyplot as plt\n",
    "%matplotlib inline\n",
    "plt.style.use('ggplot')\n",
    "\n",
    "y_pos = [1,1.5]\n",
    "\n",
    "#main values, change height value when necessary\n",
    "height=Genderval\n",
    "width=0.2\n",
    "\n",
    "fig, ax = plt.subplots()\n",
    "rects1 = ax.bar(y_pos , height, width, color=['blue','Green']) #bars colors\n",
    "\n",
    "#y-axis label, change the value in quotes when necessary\n",
    "ax.set_ylabel('Percentage',color='black')\n",
    "\n",
    "#Type in the title you want. Depending on where you want the next line change the number after the title\n",
    "ax.set_title(\"\\n\".join(wrap(\"Gender among Teachers  Who Completed Northwest in AY2016 and Worked in Missouri Public Schools 2016-2019 (n=69;F=56,M=13)\", 60)),fontsize=11)\n",
    " \n",
    "# Values on X and Y Axis\n",
    "plt.xticks(y_pos, term_val,color='black')\n",
    "#(inclusive,exclusive,countskip) change the yaxis values when necessary\n",
    "plt.yticks(np.arange(0,101,20),color='black')\n",
    "\n",
    "\n",
    "# Labels on top of bars\n",
    "def autolabel(rects):\n",
    "    for rect in rects:\n",
    "        height = rect.get_height()\n",
    "        ax.annotate('{}%'.format(height),\n",
    "                    xy=(rect.get_x() + rect.get_width() / 2, height),ha='center', va='bottom')\n",
    "autolabel(rects1)\n",
    "#fig.tight_layout()\n",
    "plt.show()\n"
   ]
  },
  {
   "cell_type": "code",
   "execution_count": 47,
   "metadata": {},
   "outputs": [],
   "source": [
    "term_val=['Caucasian','Others']"
   ]
  },
  {
   "cell_type": "code",
   "execution_count": 48,
   "metadata": {},
   "outputs": [
    {
     "data": {
      "image/png": "[encoded data removed]",
      "text/plain": [
       "<Figure size 432x288 with 1 Axes>"
      ]
     },
     "metadata": {},
     "output_type": "display_data"
    }
   ],
   "source": [
    "from textwrap import wrap\n",
    "import matplotlib.patches as mpatches\n",
    "import matplotlib.pyplot as plt\n",
    "%matplotlib inline\n",
    "plt.style.use('ggplot')\n",
    "\n",
    "y_pos = [1,1.5]\n",
    "\n",
    "#main values, change height value when necessary\n",
    "height=Nonwhite\n",
    "width=0.2\n",
    "\n",
    "fig, ax = plt.subplots()\n",
    "rects1 = ax.bar(y_pos , height, width, color=['blue','Green']) #bars colors\n",
    "\n",
    "#y-axis label, change the value in quotes when necessary\n",
    "#ax.set_ylabel('Percentage',color='black')\n",
    "\n",
    "#Type in the title you want. Depending on where you want the next line change the number after the title\n",
    "ax.set_title(\"\\n\".join(wrap(\"Race, Caucasian vs Other, among Teachers who Completed Northwest in AY2016 and Worked in Missouri Public Schools 2016-2019 (n=%i)\"%MEESSheet['Non White'].count(), 75)),fontsize=11)\n",
    " \n",
    "# Values on X and Y Axis\n",
    "plt.xticks(y_pos, term_val,color='black')\n",
    "#(inclusive,exclusive,countskip) change the yaxis values when necessary\n",
    "plt.yticks(np.arange(0,101,20),color='black',labels=('0%','20%','40%','60%','80%','100%'))\n",
    "\n",
    "\n",
    "# Labels on top of bars\n",
    "def autolabel(rects):\n",
    "    for rect in rects:\n",
    "        height = rect.get_height()\n",
    "        ax.annotate('{}%'.format(height),\n",
    "                    xy=(rect.get_x() + rect.get_width() / 2, height),ha='center', va='bottom')\n",
    "autolabel(rects1)\n",
    "#fig.tight_layout()\n",
    "plt.show()\n"
   ]
  },
  {
   "cell_type": "code",
   "execution_count": 49,
   "metadata": {},
   "outputs": [
    {
     "data": {
      "text/html": [
       "<div>\n",
       "<style scoped>\n",
       "    .dataframe tbody tr th:only-of-type {\n",
       "        vertical-align: middle;\n",
       "    }\n",
       "\n",
       "    .dataframe tbody tr th {\n",
       "        vertical-align: top;\n",
       "    }\n",
       "\n",
       "    .dataframe thead th {\n",
       "        text-align: right;\n",
       "    }\n",
       "</style>\n",
       "<table border=\"1\" class=\"dataframe\">\n",
       "  <thead>\n",
       "    <tr style=\"text-align: right;\">\n",
       "      <th></th>\n",
       "      <th>Retained</th>\n",
       "      <th>Gender</th>\n",
       "      <th>count</th>\n",
       "    </tr>\n",
       "  </thead>\n",
       "  <tbody>\n",
       "    <tr>\n",
       "      <td>0</td>\n",
       "      <td>0</td>\n",
       "      <td>F</td>\n",
       "      <td>22</td>\n",
       "    </tr>\n",
       "    <tr>\n",
       "      <td>1</td>\n",
       "      <td>0</td>\n",
       "      <td>M</td>\n",
       "      <td>6</td>\n",
       "    </tr>\n",
       "    <tr>\n",
       "      <td>2</td>\n",
       "      <td>1</td>\n",
       "      <td>F</td>\n",
       "      <td>34</td>\n",
       "    </tr>\n",
       "    <tr>\n",
       "      <td>3</td>\n",
       "      <td>1</td>\n",
       "      <td>M</td>\n",
       "      <td>7</td>\n",
       "    </tr>\n",
       "  </tbody>\n",
       "</table>\n",
       "</div>"
      ],
      "text/plain": [
       "   Retained Gender  count\n",
       "0         0      F     22\n",
       "1         0      M      6\n",
       "2         1      F     34\n",
       "3         1      M      7"
      ]
     },
     "execution_count": 49,
     "metadata": {},
     "output_type": "execute_result"
    }
   ],
   "source": [
    "Retained_gender=MEESSheet.groupby(['Retained','Gender'])['Gender'].count().reset_index(name=\"count\")\n",
    "Retained_gender"
   ]
  },
  {
   "cell_type": "code",
   "execution_count": 50,
   "metadata": {},
   "outputs": [
    {
     "data": {
      "text/plain": [
       "[78.57, 21.43]"
      ]
     },
     "execution_count": 50,
     "metadata": {},
     "output_type": "execute_result"
    }
   ],
   "source": [
    "val1=(Retained_gender['count'][:2]/Retained_gender['count'][:2].sum()*100).round(2).tolist()\n",
    "val1"
   ]
  },
  {
   "cell_type": "code",
   "execution_count": 51,
   "metadata": {},
   "outputs": [
    {
     "data": {
      "text/plain": [
       "[82.93, 17.07]"
      ]
     },
     "execution_count": 51,
     "metadata": {},
     "output_type": "execute_result"
    }
   ],
   "source": [
    "val2=(Retained_gender['count'][2:]/Retained_gender['count'][2:].sum()*100).round(2).tolist()\n",
    "val2"
   ]
  },
  {
   "cell_type": "code",
   "execution_count": 52,
   "metadata": {},
   "outputs": [
    {
     "data": {
      "text/plain": [
       "69"
      ]
     },
     "execution_count": 52,
     "metadata": {},
     "output_type": "execute_result"
    }
   ],
   "source": [
    "Retained_gender['count'].sum()"
   ]
  },
  {
   "cell_type": "code",
   "execution_count": 53,
   "metadata": {},
   "outputs": [],
   "source": [
    "firstval=[val1[0],val2[0]]\n",
    "secondval=[val1[1],val2[1]]\n",
    "termval=['Not Retained','Retained']"
   ]
  },
  {
   "cell_type": "code",
   "execution_count": null,
   "metadata": {},
   "outputs": [],
   "source": []
  },
  {
   "cell_type": "code",
   "execution_count": 54,
   "metadata": {},
   "outputs": [
    {
     "data": {
      "image/png": "[encoded data removed]",
      "text/plain": [
       "<Figure size 432x288 with 1 Axes>"
      ]
     },
     "metadata": {},
     "output_type": "display_data"
    }
   ],
   "source": [
    "\n",
    "from textwrap import wrap\n",
    "labels = termval\n",
    "bar1=firstval\n",
    "bar2=secondval\n",
    "x = np.arange(len(labels))# the label locations\n",
    "\n",
    "width = 0.3  # the width of the bars\n",
    "\n",
    "fig, ax = plt.subplots()\n",
    "rects1 = ax.bar(x - width/2, bar1, width, label='Female',color='blue')\n",
    "rects2 = ax.bar(x + width/2, bar2, width, label='Male',color='red')\n",
    "\n",
    "# Add some text for labels, title and custom x-axis tick labels, etc.\n",
    "ax.set_ylabel('Percentage',color='black')\n",
    "#ax.set_title('Race of Teacher Ed Admittances, White vs. Other, 2018 vs. 2019 Subpop',fontsize=9)\n",
    "title = ax.set_title(\"\\n\".join(wrap(\"Teacher Gender, Teachers Retained in Initial Placement vs. Teachers Not Retained in Initial Placement, Northwest AY2016 Completers Who Worked in Missouri Public Schools 2016-2019 (n=69; NR-F=22, NR-M=6; R-F=34, R-M=7)\",90)),fontsize=11)\n",
    "\n",
    "ax.set_xticks(x)\n",
    "plt.yticks(np.arange(0,101,10),color='black')\n",
    "ax.set_xticklabels(labels,color='black')\n",
    "ax.legend(loc='upper right')\n",
    "\n",
    "\n",
    "def autolabel(rects):\n",
    "    for rect in rects:\n",
    "        height = rect.get_height()\n",
    "        ax.annotate('{}%'.format(height),\n",
    "                    xy=(rect.get_x() + rect.get_width() / 2, height),ha='center', va='bottom')\n",
    "\n",
    "\n",
    "autolabel(rects1)\n",
    "autolabel(rects2)\n",
    "\n",
    "\n",
    "\n",
    "plt.show()"
   ]
  },
  {
   "cell_type": "code",
   "execution_count": 55,
   "metadata": {},
   "outputs": [],
   "source": [
    "retained_gender=MEESSheet.groupby(['Retained','Gender'])['Gender'].count().reset_index(name=\"count\")"
   ]
  },
  {
   "cell_type": "code",
   "execution_count": 56,
   "metadata": {},
   "outputs": [],
   "source": [
    "retained_female=[retained_gender['count'][0],retained_gender['count'][2]]"
   ]
  },
  {
   "cell_type": "code",
   "execution_count": 57,
   "metadata": {},
   "outputs": [
    {
     "data": {
      "text/plain": [
       "[22, 34]"
      ]
     },
     "execution_count": 57,
     "metadata": {},
     "output_type": "execute_result"
    }
   ],
   "source": [
    "retained_female"
   ]
  },
  {
   "cell_type": "code",
   "execution_count": 58,
   "metadata": {},
   "outputs": [
    {
     "data": {
      "text/plain": [
       "0     F\n",
       "1     F\n",
       "4     F\n",
       "7     F\n",
       "8     F\n",
       "10    F\n",
       "11    F\n",
       "15    F\n",
       "17    F\n",
       "19    F\n",
       "20    F\n",
       "21    F\n",
       "22    F\n",
       "24    F\n",
       "25    F\n",
       "26    F\n",
       "28    F\n",
       "29    F\n",
       "31    F\n",
       "32    F\n",
       "37    F\n",
       "40    F\n",
       "43    F\n",
       "45    F\n",
       "47    F\n",
       "48    F\n",
       "52    F\n",
       "55    F\n",
       "56    F\n",
       "60    F\n",
       "64    F\n",
       "65    F\n",
       "67    F\n",
       "68    F\n",
       "Name: Gender, dtype: object"
      ]
     },
     "execution_count": 58,
     "metadata": {},
     "output_type": "execute_result"
    }
   ],
   "source": [
    "MEESSheet[(MEESSheet['Retained']==1)&(MEESSheet['Gender']=='F')]['Gender']"
   ]
  },
  {
   "cell_type": "code",
   "execution_count": 59,
   "metadata": {},
   "outputs": [
    {
     "data": {
      "text/plain": [
       "28.0"
      ]
     },
     "execution_count": 59,
     "metadata": {},
     "output_type": "execute_result"
    }
   ],
   "source": [
    "(retained_female[0]+retained_female[1])/2"
   ]
  },
  {
   "cell_type": "code",
   "execution_count": 60,
   "metadata": {},
   "outputs": [],
   "source": [
    "sign=9.21"
   ]
  },
  {
   "cell_type": "code",
   "execution_count": 61,
   "metadata": {},
   "outputs": [
    {
     "data": {
      "text/plain": [
       "2.5714285714285716"
      ]
     },
     "execution_count": 61,
     "metadata": {},
     "output_type": "execute_result"
    }
   ],
   "source": [
    "E=(((22-28)**2)/28)+(((34-28)**2)/28)\n",
    "E"
   ]
  },
  {
   "cell_type": "code",
   "execution_count": 62,
   "metadata": {},
   "outputs": [
    {
     "data": {
      "text/plain": [
       "Power_divergenceResult(statistic=2.5714285714285716, pvalue=0.10880943004054605)"
      ]
     },
     "execution_count": 62,
     "metadata": {},
     "output_type": "execute_result"
    }
   ],
   "source": [
    "from scipy.stats import chisquare\n",
    "chisquare([22,34])"
   ]
  },
  {
   "cell_type": "code",
   "execution_count": null,
   "metadata": {},
   "outputs": [],
   "source": []
  },
  {
   "cell_type": "code",
   "execution_count": null,
   "metadata": {},
   "outputs": [],
   "source": []
  },
  {
   "cell_type": "code",
   "execution_count": null,
   "metadata": {},
   "outputs": [],
   "source": []
  },
  {
   "cell_type": "code",
   "execution_count": null,
   "metadata": {},
   "outputs": [],
   "source": []
  },
  {
   "cell_type": "code",
   "execution_count": null,
   "metadata": {},
   "outputs": [],
   "source": []
  },
  {
   "cell_type": "code",
   "execution_count": null,
   "metadata": {},
   "outputs": [],
   "source": []
  },
  {
   "cell_type": "code",
   "execution_count": null,
   "metadata": {},
   "outputs": [],
   "source": []
  },
  {
   "cell_type": "code",
   "execution_count": null,
   "metadata": {},
   "outputs": [],
   "source": []
  },
  {
   "cell_type": "code",
   "execution_count": null,
   "metadata": {},
   "outputs": [],
   "source": []
  },
  {
   "cell_type": "code",
   "execution_count": null,
   "metadata": {},
   "outputs": [],
   "source": []
  },
  {
   "cell_type": "code",
   "execution_count": 63,
   "metadata": {},
   "outputs": [
    {
     "data": {
      "text/html": [
       "<div>\n",
       "<style scoped>\n",
       "    .dataframe tbody tr th:only-of-type {\n",
       "        vertical-align: middle;\n",
       "    }\n",
       "\n",
       "    .dataframe tbody tr th {\n",
       "        vertical-align: top;\n",
       "    }\n",
       "\n",
       "    .dataframe thead th {\n",
       "        text-align: right;\n",
       "    }\n",
       "</style>\n",
       "<table border=\"1\" class=\"dataframe\">\n",
       "  <thead>\n",
       "    <tr style=\"text-align: right;\">\n",
       "      <th></th>\n",
       "      <th>Retained</th>\n",
       "      <th>RaceEthnicity</th>\n",
       "      <th>count</th>\n",
       "    </tr>\n",
       "  </thead>\n",
       "  <tbody>\n",
       "    <tr>\n",
       "      <td>0</td>\n",
       "      <td>0</td>\n",
       "      <td>A</td>\n",
       "      <td>1</td>\n",
       "    </tr>\n",
       "    <tr>\n",
       "      <td>1</td>\n",
       "      <td>0</td>\n",
       "      <td>O</td>\n",
       "      <td>1</td>\n",
       "    </tr>\n",
       "    <tr>\n",
       "      <td>2</td>\n",
       "      <td>0</td>\n",
       "      <td>W</td>\n",
       "      <td>26</td>\n",
       "    </tr>\n",
       "    <tr>\n",
       "      <td>3</td>\n",
       "      <td>1</td>\n",
       "      <td>A</td>\n",
       "      <td>1</td>\n",
       "    </tr>\n",
       "    <tr>\n",
       "      <td>4</td>\n",
       "      <td>1</td>\n",
       "      <td>O</td>\n",
       "      <td>2</td>\n",
       "    </tr>\n",
       "    <tr>\n",
       "      <td>5</td>\n",
       "      <td>1</td>\n",
       "      <td>W</td>\n",
       "      <td>38</td>\n",
       "    </tr>\n",
       "  </tbody>\n",
       "</table>\n",
       "</div>"
      ],
      "text/plain": [
       "   Retained RaceEthnicity  count\n",
       "0         0             A      1\n",
       "1         0             O      1\n",
       "2         0             W     26\n",
       "3         1             A      1\n",
       "4         1             O      2\n",
       "5         1             W     38"
      ]
     },
     "execution_count": 63,
     "metadata": {},
     "output_type": "execute_result"
    }
   ],
   "source": [
    "Retained_race=MEESSheet.groupby(['Retained','RaceEthnicity'])['RaceEthnicity'].count().reset_index(name=\"count\")\n",
    "Retained_race"
   ]
  },
  {
   "cell_type": "code",
   "execution_count": 64,
   "metadata": {},
   "outputs": [
    {
     "data": {
      "text/plain": [
       "[78.57, 21.43]"
      ]
     },
     "execution_count": 64,
     "metadata": {},
     "output_type": "execute_result"
    }
   ],
   "source": [
    "val1"
   ]
  },
  {
   "cell_type": "code",
   "execution_count": 65,
   "metadata": {},
   "outputs": [
    {
     "data": {
      "text/plain": [
       "[82.93, 17.07]"
      ]
     },
     "execution_count": 65,
     "metadata": {},
     "output_type": "execute_result"
    }
   ],
   "source": [
    "val2"
   ]
  },
  {
   "cell_type": "code",
   "execution_count": 66,
   "metadata": {},
   "outputs": [],
   "source": [
    "val1=(Retained_race['count'][:3]/Retained_race['count'][:3].sum()*100).round(2).tolist()\n",
    "val2=(Retained_race['count'][3:]/Retained_race['count'][3:].sum()*100).round(2).tolist()\n",
    "firstval=[val1[0],val2[0]]\n",
    "secondval=[val1[1],val2[1]]\n",
    "thirdval=[val1[2],val2[2]]\n",
    "termval=['Not Retained','Retained']"
   ]
  },
  {
   "cell_type": "code",
   "execution_count": 67,
   "metadata": {},
   "outputs": [
    {
     "data": {
      "text/plain": [
       "[3.57, 2.44]"
      ]
     },
     "execution_count": 67,
     "metadata": {},
     "output_type": "execute_result"
    }
   ],
   "source": [
    "firstval"
   ]
  },
  {
   "cell_type": "code",
   "execution_count": 68,
   "metadata": {},
   "outputs": [
    {
     "data": {
      "image/png": "[encoded data removed]",
      "text/plain": [
       "<Figure size 432x288 with 1 Axes>"
      ]
     },
     "metadata": {},
     "output_type": "display_data"
    }
   ],
   "source": [
    "\n",
    "from textwrap import wrap\n",
    "labels = termval\n",
    "bar1=firstval\n",
    "bar2=secondval\n",
    "bar3=thirdval\n",
    "x = np.arange(len(labels))# the label locations\n",
    "\n",
    "width = 0.5  # the width of the bars\n",
    "\n",
    "fig, ax = plt.subplots()\n",
    "rects1 = ax.bar(x - width/2, bar1, width, label='Asian',color='blue')\n",
    "rects2 = ax.bar(x, bar2, width, label='Other/Unknown',color='red')\n",
    "rects3 = ax.bar(x + width/2, bar3, width, label='Caucasian',color='green')\n",
    "\n",
    "\n",
    "\n",
    "# Add some text for labels, title and custom x-axis tick labels, etc.\n",
    "#ax.set_ylabel('Percentage',color='black')\n",
    "#ax.set_title('Race of Teacher Ed Admittances, White vs. Other, 2018 vs. 2019 Subpop',fontsize=9)\n",
    "title = ax.set_title(\"\\n\".join(wrap(\"Teacher Race Disaggregated by Retained (n=69; Retained=41, Not Retained=28)\", 40)),fontsize=11)\n",
    "\n",
    "ax.set_xticks(x)\n",
    "plt.yticks(np.arange(0,101,10),color='black')\n",
    "plt.yticks(np.arange(0,101,10),color='black',labels=('0%','10%','20%','30%','40%','50%','60%','70%','80%','90%','100%'))\n",
    "ax.set_xticklabels(labels,color='black')\n",
    "#ax.legend(loc='upper left',prop={'size': 10})\n",
    "plt.legend( bbox_to_anchor=(1, 1))\n",
    "\n",
    "for rect in rects1:\n",
    "    height = rect.get_height()\n",
    "    ax.annotate('{}%'.format(height),xy=(rect.get_x() + rect.get_width() / 3.5, height),ha='center', va='bottom')\n",
    "\n",
    "for rect in rects2:\n",
    "    height = rect.get_height()\n",
    "    ax.annotate('{}%'.format(height),xy=(rect.get_x()  + rect.get_width() / 3.5, height),ha='center', va='bottom')\n",
    "\n",
    "for rect in rects3:\n",
    "    height = rect.get_height()\n",
    "    ax.annotate('{}%'.format(height),xy=(rect.get_x() + rect.get_width() / 2, height),ha='center', va='bottom')\n",
    "    \n",
    "\n",
    "\n",
    "\n",
    "plt.show()"
   ]
  },
  {
   "cell_type": "code",
   "execution_count": 69,
   "metadata": {},
   "outputs": [
    {
     "data": {
      "text/plain": [
       "65"
      ]
     },
     "execution_count": 69,
     "metadata": {},
     "output_type": "execute_result"
    }
   ],
   "source": [
    "MEESSheet[~MEESSheet['IEP_INCIDENCE_RATE'].isin(['*',' ',0])]['IEP_INCIDENCE_RATE'].dropna().count()"
   ]
  },
  {
   "cell_type": "code",
   "execution_count": null,
   "metadata": {},
   "outputs": [],
   "source": []
  },
  {
   "cell_type": "code",
   "execution_count": 70,
   "metadata": {},
   "outputs": [],
   "source": [
    "e_eLL=MEESSheet[~MEESSheet['ENROLLMENT_ELL_LEP_PCT'].isin(['*',' ',0])]['ENROLLMENT_ELL_LEP_PCT'].dropna().mean()\n",
    "e_nonwhite=MEESSheet[~MEESSheet['ENROLLMENT_NONWHITE_PCT'].isin(['*',' ',0])]['ENROLLMENT_NONWHITE_PCT'].dropna().mean()\n",
    "e_lunch=MEESSheet[~MEESSheet['LUNCH_COUNT_FREE_REDUCTED_PCT'].isin(['*',' ',0])]['LUNCH_COUNT_FREE_REDUCTED_PCT'].dropna().mean()\n",
    "e_iep=MEESSheet[~MEESSheet['IEP_INCIDENCE_RATE'].isin(['*',' ',0])]['IEP_INCIDENCE_RATE'].dropna().mean()"
   ]
  },
  {
   "cell_type": "code",
   "execution_count": 71,
   "metadata": {},
   "outputs": [],
   "source": [
    "school_means=[e_nonwhite,e_eLL,e_lunch,e_iep]"
   ]
  },
  {
   "cell_type": "code",
   "execution_count": 72,
   "metadata": {},
   "outputs": [],
   "source": [
    "school_means = list(np.around(np.array(school_means),2))"
   ]
  },
  {
   "cell_type": "code",
   "execution_count": 73,
   "metadata": {},
   "outputs": [],
   "source": [
    "term_val=['Not Caucasian','ELL','Free/Reduced Lunch','IEP']"
   ]
  },
  {
   "cell_type": "code",
   "execution_count": 74,
   "metadata": {},
   "outputs": [
    {
     "data": {
      "image/png": "[encoded data removed]",
      "text/plain": [
       "<Figure size 432x288 with 1 Axes>"
      ]
     },
     "metadata": {},
     "output_type": "display_data"
    }
   ],
   "source": [
    "from textwrap import wrap\n",
    "import matplotlib.patches as mpatches\n",
    "import matplotlib.pyplot as plt\n",
    "%matplotlib inline\n",
    "plt.style.use('ggplot')\n",
    "\n",
    "y_pos = np.arange(len(term_val)) \n",
    "\n",
    "#main values, change height value when necessary\n",
    "height=school_means\n",
    "width=0.4\n",
    "\n",
    "fig, ax = plt.subplots()\n",
    "rects1 = ax.bar(y_pos , height, width, color=['Yellow','Green','red','blue']) #bars colors\n",
    "\n",
    "#y-axis label, change the value in quotes when necessary\n",
    "ax.set_ylabel('Percentage',color='black')\n",
    "\n",
    "#Type in the title you want. Depending on where you want the next line change the number after the title\n",
    "ax.set_title(\"\\n\".join(wrap(\"Average K12 Student Demographics, Missouri Public Schools that Employed 2016 Northwest Completers, 2016-2019 (n=NC-64, ELL-30, RL-62,IEP-65)\", 50)),fontsize=11)\n",
    "\n",
    " \n",
    "# Values on X and Y Axis\n",
    "plt.xticks(y_pos, term_val,color='black')\n",
    "#(inclusive,exclusive,countskip) change the yaxis values when necessary\n",
    "plt.yticks(np.arange(0,101,20),color='black')\n",
    "\n",
    "\n",
    "# Labels on top of bars\n",
    "def autolabel(rects):\n",
    "    for rect in rects:\n",
    "        height = rect.get_height()\n",
    "        ax.annotate('{}%'.format(height),\n",
    "                    xy=(rect.get_x() + rect.get_width() / 2, height),ha='center', va='bottom')\n",
    "autolabel(rects1)\n",
    "#fig.tight_layout()\n",
    "plt.show()\n"
   ]
  },
  {
   "cell_type": "code",
   "execution_count": 75,
   "metadata": {},
   "outputs": [
    {
     "ename": "NameError",
     "evalue": "name 'retained1_eLL' is not defined",
     "output_type": "error",
     "traceback": [
      "\u001b[1;31m---------------------------------------------------------------------------\u001b[0m",
      "\u001b[1;31mNameError\u001b[0m                                 Traceback (most recent call last)",
      "\u001b[1;32m<ipython-input-75-8a606d73523e>\u001b[0m in \u001b[0;36m<module>\u001b[1;34m\u001b[0m\n\u001b[1;32m----> 1\u001b[1;33m \u001b[0mretained1_eLL\u001b[0m\u001b[1;33m\u001b[0m\u001b[1;33m\u001b[0m\u001b[0m\n\u001b[0m",
      "\u001b[1;31mNameError\u001b[0m: name 'retained1_eLL' is not defined"
     ]
    }
   ],
   "source": [
    "retained1_eLL"
   ]
  },
  {
   "cell_type": "code",
   "execution_count": 76,
   "metadata": {},
   "outputs": [],
   "source": [
    "retained0_nonwhite=MEESSheet[MEESSheet['Retained']==0]['ENROLLMENT_NONWHITE_PCT'].mean()\n",
    "retained1_nonwhite=MEESSheet[MEESSheet['Retained']==1]['ENROLLMENT_NONWHITE_PCT'].mean()\n",
    "retained0_eLL=MEESSheet[MEESSheet['Retained']==0]['ENROLLMENT_ELL_LEP_PCT'].mean()\n",
    "retained1_eLL=MEESSheet[MEESSheet['Retained']==1]['ENROLLMENT_ELL_LEP_PCT'].mean()\n",
    "retained0_lunch=MEESSheet[MEESSheet['Retained']==0]['LUNCH_COUNT_FREE_REDUCTED_PCT'].mean()\n",
    "retained1_lunch=MEESSheet[MEESSheet['Retained']==1]['LUNCH_COUNT_FREE_REDUCTED_PCT'].mean()\n",
    "retained0_iep=MEESSheet[MEESSheet['Retained']==0]['IEP_INCIDENCE_RATE'].mean()\n",
    "retained1_iep=MEESSheet[MEESSheet['Retained']==1]['IEP_INCIDENCE_RATE'].mean()"
   ]
  },
  {
   "cell_type": "code",
   "execution_count": 77,
   "metadata": {},
   "outputs": [],
   "source": [
    "firstval=[retained0_nonwhite,retained0_eLL,retained0_lunch,retained0_iep]\n",
    "secondval=[retained1_nonwhite,retained1_eLL,retained1_lunch,retained1_iep]\n",
    "firstval = list(np.around(np.array(firstval),2))\n",
    "secondval = list(np.around(np.array(secondval),2))\n",
    "term_val=['NonWhite','ELL','Lunch','Incidence']"
   ]
  },
  {
   "cell_type": "code",
   "execution_count": 78,
   "metadata": {},
   "outputs": [
    {
     "data": {
      "text/plain": [
       "array([0, 1])"
      ]
     },
     "execution_count": 78,
     "metadata": {},
     "output_type": "execute_result"
    }
   ],
   "source": [
    "x = np.arange(len(labels))\n",
    "x"
   ]
  },
  {
   "cell_type": "code",
   "execution_count": 79,
   "metadata": {},
   "outputs": [
    {
     "data": {
      "image/png": "[encoded data removed]",
      "text/plain": [
       "<Figure size 432x288 with 1 Axes>"
      ]
     },
     "metadata": {},
     "output_type": "display_data"
    }
   ],
   "source": [
    "\n",
    "from textwrap import wrap\n",
    "labels = term_val\n",
    "bar1=firstval\n",
    "bar2=secondval\n",
    "x = np.arange(len(labels))# the label locations\n",
    "#x=[0,1,2,3]\n",
    "\n",
    "width = 0.4  # the width of the bars\n",
    "\n",
    "fig, ax = plt.subplots()\n",
    "rects1 = ax.bar(x - width/2, bar1, width, label='Not Retained',color='blue')\n",
    "rects2 = ax.bar(x + width/2, bar2, width, label='Retained',color='red')\n",
    "\n",
    "# Add some text for labels, title and custom x-axis tick labels, etc.\n",
    "ax.set_ylabel('Percentage',color='black')\n",
    "#ax.set_title('Race of Teacher Ed Admittances, White vs. Other, 2018 vs. 2019 Subpop',fontsize=9)\n",
    "title = ax.set_title(\"\\n\".join(wrap(\"Mean of Percentages Disaggregated by Retained\", 30)),fontsize=11)\n",
    "\n",
    "ax.set_xticks(x)\n",
    "plt.yticks(np.arange(0,101,10),color='black')\n",
    "ax.set_xticklabels(labels,color='black')\n",
    "ax.legend(loc='upper right')\n",
    "\n",
    "\n",
    "def autolabel(rects):\n",
    "    for rect in rects:\n",
    "        height = rect.get_height()\n",
    "        ax.annotate('{}%'.format(height),\n",
    "                    xy=(rect.get_x() + rect.get_width() / 2, height),ha='center', va='bottom')\n",
    "\n",
    "\n",
    "autolabel(rects1)\n",
    "autolabel(rects2)\n",
    "\n",
    "fig.tight_layout()\n",
    "\n",
    "plt.show()"
   ]
  },
  {
   "cell_type": "code",
   "execution_count": null,
   "metadata": {},
   "outputs": [],
   "source": []
  },
  {
   "cell_type": "code",
   "execution_count": 80,
   "metadata": {},
   "outputs": [],
   "source": [
    "SchoolSheet = pd.read_excel(\"D:\\\\SchoolData.xls\")"
   ]
  },
  {
   "cell_type": "code",
   "execution_count": 81,
   "metadata": {},
   "outputs": [],
   "source": [
    "schoolwhite=SchoolSheet['ENROLLMENT_WHITE_PCT'].isin(['*',' ',0])\n",
    "SchoolSht1=SchoolSheet[~schoolwhite]\n",
    "schoolwhite=SchoolSheet['ENROLLMENT_ELL_LEP_PCT'].isin(['*',' ',0])\n",
    "SchoolSht2=SchoolSheet[~schoolwhite]\n",
    "schoolwhite=SchoolSheet['LUNCH_COUNT_FREE_REDUCTED_PCT'].isin(['*',' ',0])\n",
    "SchoolSht3=SchoolSheet[~schoolwhite]\n",
    "schoolwhite=SchoolSheet['IEP_INCIDENCE_RATE'].isin(['*',' ',0])\n",
    "SchoolSht4=SchoolSheet[~schoolwhite]"
   ]
  },
  {
   "cell_type": "code",
   "execution_count": 82,
   "metadata": {},
   "outputs": [],
   "source": [
    "SchoolWhite=SchoolSht1['ENROLLMENT_WHITE_PCT'].mean()\n",
    "SchoolELL=SchoolSht2['ENROLLMENT_ELL_LEP_PCT'].mean()\n",
    "SchoolLunch=SchoolSht3['LUNCH_COUNT_FREE_REDUCTED_PCT'].mean()\n",
    "SchoolIEP=SchoolSht4['IEP_INCIDENCE_RATE'].mean()"
   ]
  },
  {
   "cell_type": "code",
   "execution_count": 83,
   "metadata": {},
   "outputs": [
    {
     "data": {
      "text/plain": [
       "[77.17, 7.83, 48.44, 13.71]"
      ]
     },
     "execution_count": 83,
     "metadata": {},
     "output_type": "execute_result"
    }
   ],
   "source": [
    "firstval=[SchoolWhite,SchoolELL,SchoolLunch,SchoolIEP]\n",
    "firstval = list(np.around(np.array(firstval),2))\n",
    "firstval"
   ]
  },
  {
   "cell_type": "code",
   "execution_count": null,
   "metadata": {},
   "outputs": [],
   "source": []
  },
  {
   "cell_type": "code",
   "execution_count": 84,
   "metadata": {},
   "outputs": [],
   "source": [
    "school_race=((MEESSheet['Race'].groupby(MEESSheet['Race']).count()/MEESSheet['Race'].count())*100).round(2).tolist()\n",
    "school_ell=((MEESSheet['ELL'].groupby(MEESSheet['ELL']).count()/MEESSheet['ELL'].count())*100).round(2).tolist()\n",
    "school_ses=((MEESSheet['SES'].groupby(MEESSheet['SES']).count()/MEESSheet['SES'].count())*100).round(2).tolist()\n",
    "school_sped=((MEESSheet['SPED'].groupby(MEESSheet['SPED']).count()/MEESSheet['SPED'].count())*100).round(2).tolist()"
   ]
  },
  {
   "cell_type": "code",
   "execution_count": 85,
   "metadata": {},
   "outputs": [],
   "source": [
    "term_val=['Race','ELL','SES','SPED']"
   ]
  },
  {
   "cell_type": "code",
   "execution_count": 86,
   "metadata": {},
   "outputs": [],
   "source": [
    "school_percentages=[school_race[1],school_ell[1],school_ses[1],school_sped[1]]\n"
   ]
  },
  {
   "cell_type": "code",
   "execution_count": 87,
   "metadata": {},
   "outputs": [
    {
     "data": {
      "image/png": "[encoded data removed]",
      "text/plain": [
       "<Figure size 432x288 with 1 Axes>"
      ]
     },
     "metadata": {},
     "output_type": "display_data"
    }
   ],
   "source": [
    "from textwrap import wrap\n",
    "import matplotlib.patches as mpatches\n",
    "import matplotlib.pyplot as plt\n",
    "%matplotlib inline\n",
    "plt.style.use('ggplot')\n",
    "\n",
    "y_pos = np.arange(len(term_val)) \n",
    "\n",
    "#main values, change height value when necessary\n",
    "height=school_percentages\n",
    "width=0.4\n",
    "\n",
    "fig, ax = plt.subplots()\n",
    "rects1 = ax.bar(y_pos , height, width, color=['Yellow','Green','red','blue']) #bars colors\n",
    "\n",
    "#y-axis label, change the value in quotes when necessary\n",
    "ax.set_ylabel('Percentage',color='black')\n",
    "\n",
    "#Type in the title you want. Depending on where you want the next line change the number after the title\n",
    "ax.set_title(\"Percentage of Diverse School Employing Northwest 2016 Completers \\n (Diversity as defined by Northwest (n=69))\",fontsize=10)\n",
    " \n",
    "# Values on X and Y Axis\n",
    "plt.xticks(y_pos, term_val,color='black')\n",
    "#(inclusive,exclusive,countskip) change the yaxis values when necessary\n",
    "plt.yticks(np.arange(0,101,20),color='black')\n",
    "\n",
    "\n",
    "# Labels on top of bars\n",
    "def autolabel(rects):\n",
    "    for rect in rects:\n",
    "        height = rect.get_height()\n",
    "        ax.annotate('{}%'.format(height),\n",
    "                    xy=(rect.get_x() + rect.get_width() / 2, height),ha='center', va='bottom')\n",
    "autolabel(rects1)\n",
    "#fig.tight_layout()\n",
    "plt.show()\n"
   ]
  },
  {
   "cell_type": "code",
   "execution_count": null,
   "metadata": {},
   "outputs": [],
   "source": []
  },
  {
   "cell_type": "code",
   "execution_count": null,
   "metadata": {},
   "outputs": [],
   "source": []
  },
  {
   "cell_type": "code",
   "execution_count": 88,
   "metadata": {},
   "outputs": [
    {
     "data": {
      "text/plain": [
       "['% Racially Diverse', '% ELL', '% Free/Reduced Lunch', '% IEP']"
      ]
     },
     "execution_count": 88,
     "metadata": {},
     "output_type": "execute_result"
    }
   ],
   "source": [
    "term_val=['% Racially Diverse','% ELL','% Free/Reduced Lunch','% IEP']\n",
    "term_val"
   ]
  },
  {
   "cell_type": "code",
   "execution_count": 89,
   "metadata": {},
   "outputs": [
    {
     "data": {
      "image/png": "[encoded data removed]",
      "text/plain": [
       "<Figure size 432x288 with 1 Axes>"
      ]
     },
     "metadata": {},
     "output_type": "display_data"
    }
   ],
   "source": [
    "\n",
    "from textwrap import wrap\n",
    "labels = term_val\n",
    "bar1=firstval\n",
    "bar2=school_percentages\n",
    "x = np.arange(len(labels))# the label locations\n",
    "#x=[0,1,2,3]\n",
    "\n",
    "width = 0.4  # the width of the bars\n",
    "\n",
    "fig, ax = plt.subplots()\n",
    "rects1 = ax.bar(x - width/2, bar1, width, label='All MO Schools',color='blue')\n",
    "rects2 = ax.bar(x + width/2, bar2, width, label='Northwest Retained',color='red')\n",
    "\n",
    "# Add some text for labels, title and custom x-axis tick labels, etc.\n",
    "#ax.set_ylabel('Percentage',color='black')\n",
    "#ax.set_title('Race of Teacher Ed Admittances, White vs. Other, 2018 vs. 2019 Subpop',fontsize=9)\n",
    "title = ax.set_title(\"Percentage of Diverse Schools: \\n All Missouri Schools vs Schools that retained 2016 completers\\n(n=69)\",fontsize=11)\n",
    "ax.set_xticks(x)\n",
    "plt.yticks(np.arange(0,101,10),color='black',labels=('0%','10%','20%','30%','40%','50%','60%','70%','80%','90%','100%'))\n",
    "ax.set_xticklabels(labels,color='black')\n",
    "ax.legend(loc='upper right')\n",
    "\n",
    "\n",
    "def autolabel(rects):\n",
    "    for rect in rects:\n",
    "        height = rect.get_height()\n",
    "        ax.annotate('{}%'.format(height),\n",
    "                    xy=(rect.get_x() + rect.get_width() / 2, height),ha='center', va='bottom')\n",
    "\n",
    "\n",
    "autolabel(rects1)\n",
    "autolabel(rects2)\n",
    "\n",
    "fig.tight_layout()\n",
    "\n",
    "plt.show()"
   ]
  },
  {
   "cell_type": "code",
   "execution_count": null,
   "metadata": {},
   "outputs": [],
   "source": []
  },
  {
   "cell_type": "code",
   "execution_count": null,
   "metadata": {},
   "outputs": [],
   "source": []
  },
  {
   "cell_type": "code",
   "execution_count": null,
   "metadata": {},
   "outputs": [],
   "source": []
  },
  {
   "cell_type": "code",
   "execution_count": 90,
   "metadata": {},
   "outputs": [],
   "source": [
    "Retained_race=MEESSheet.groupby(['Retained','Non White'])['Non White'].count().reset_index(name=\"count\")\n",
    "val1=(Retained_race['count'][:2]/Retained_race['count'][:2].sum()*100).round(2).tolist()\n",
    "val2=(Retained_race['count'][2:]/Retained_race['count'][2:].sum()*100).round(2).tolist()\n",
    "firstval=[val1[0],val2[0]]\n",
    "secondval=[val1[1],val2[1]]\n",
    "termval=['Not Retained','Retained']"
   ]
  },
  {
   "cell_type": "code",
   "execution_count": 91,
   "metadata": {},
   "outputs": [],
   "source": [
    "school_RACE=MEESSheet.groupby(['Retained','Race'])['Race'].count().reset_index(name=\"count\")\n",
    "school_ELL=MEESSheet.groupby(['Retained','ELL'])['ELL'].count().reset_index(name=\"count\")\n",
    "school_SES=MEESSheet.groupby(['Retained','SES'])['SES'].count().reset_index(name=\"count\")\n",
    "school_SPED=MEESSheet.groupby(['Retained','SPED'])['SPED'].count().reset_index(name=\"count\")"
   ]
  },
  {
   "cell_type": "code",
   "execution_count": 92,
   "metadata": {},
   "outputs": [
    {
     "data": {
      "text/html": [
       "<div>\n",
       "<style scoped>\n",
       "    .dataframe tbody tr th:only-of-type {\n",
       "        vertical-align: middle;\n",
       "    }\n",
       "\n",
       "    .dataframe tbody tr th {\n",
       "        vertical-align: top;\n",
       "    }\n",
       "\n",
       "    .dataframe thead th {\n",
       "        text-align: right;\n",
       "    }\n",
       "</style>\n",
       "<table border=\"1\" class=\"dataframe\">\n",
       "  <thead>\n",
       "    <tr style=\"text-align: right;\">\n",
       "      <th></th>\n",
       "      <th>Retained</th>\n",
       "      <th>SPED</th>\n",
       "      <th>count</th>\n",
       "    </tr>\n",
       "  </thead>\n",
       "  <tbody>\n",
       "    <tr>\n",
       "      <td>0</td>\n",
       "      <td>0</td>\n",
       "      <td>0</td>\n",
       "      <td>19</td>\n",
       "    </tr>\n",
       "    <tr>\n",
       "      <td>1</td>\n",
       "      <td>0</td>\n",
       "      <td>1</td>\n",
       "      <td>9</td>\n",
       "    </tr>\n",
       "    <tr>\n",
       "      <td>2</td>\n",
       "      <td>1</td>\n",
       "      <td>0</td>\n",
       "      <td>32</td>\n",
       "    </tr>\n",
       "    <tr>\n",
       "      <td>3</td>\n",
       "      <td>1</td>\n",
       "      <td>1</td>\n",
       "      <td>9</td>\n",
       "    </tr>\n",
       "  </tbody>\n",
       "</table>\n",
       "</div>"
      ],
      "text/plain": [
       "   Retained  SPED  count\n",
       "0         0     0     19\n",
       "1         0     1      9\n",
       "2         1     0     32\n",
       "3         1     1      9"
      ]
     },
     "execution_count": 92,
     "metadata": {},
     "output_type": "execute_result"
    }
   ],
   "source": [
    "school_SPED"
   ]
  },
  {
   "cell_type": "code",
   "execution_count": 93,
   "metadata": {},
   "outputs": [],
   "source": [
    "srace=(school_RACE['count'][:2]/school_RACE['count'][:2].sum()*100).round(2).tolist()\n",
    "sell=(school_ELL['count'][:2]/school_ELL['count'][:2].sum()*100).round(2).tolist()\n",
    "ses=(school_SES['count'][:2]/school_SES['count'][:2].sum()*100).round(2).tolist()\n",
    "sped=(school_SPED['count'][:2]/school_SPED['count'][:2].sum()*100).round(2).tolist()\n",
    "\n",
    "srace2=(school_RACE['count'][2:]/school_RACE['count'][2:].sum()*100).round(2).tolist()\n",
    "sell2=(school_ELL['count'][2:]/school_ELL['count'][2:].sum()*100).round(2).tolist()\n",
    "ses2=(school_SES['count'][2:]/school_SES['count'][2:].sum()*100).round(2).tolist()\n",
    "sped2=(school_SPED['count'][2:]/school_SPED['count'][2:].sum()*100).round(2).tolist()"
   ]
  },
  {
   "cell_type": "code",
   "execution_count": 94,
   "metadata": {},
   "outputs": [
    {
     "data": {
      "text/plain": [
       "[68.29, 31.71]"
      ]
     },
     "execution_count": 94,
     "metadata": {},
     "output_type": "execute_result"
    }
   ],
   "source": [
    "srace2"
   ]
  },
  {
   "cell_type": "code",
   "execution_count": 95,
   "metadata": {},
   "outputs": [],
   "source": [
    "term_val=['Race','ELL','SES','SPED']"
   ]
  },
  {
   "cell_type": "code",
   "execution_count": 96,
   "metadata": {},
   "outputs": [
    {
     "data": {
      "text/plain": [
       "2    28\n",
       "3    13\n",
       "Name: count, dtype: int64"
      ]
     },
     "execution_count": 96,
     "metadata": {},
     "output_type": "execute_result"
    }
   ],
   "source": [
    "school_RACE['count'][2:]"
   ]
  },
  {
   "cell_type": "code",
   "execution_count": 97,
   "metadata": {},
   "outputs": [
    {
     "data": {
      "text/plain": [
       "[89.29, 10.71]"
      ]
     },
     "execution_count": 97,
     "metadata": {},
     "output_type": "execute_result"
    }
   ],
   "source": [
    "sell"
   ]
  },
  {
   "cell_type": "code",
   "execution_count": 98,
   "metadata": {},
   "outputs": [
    {
     "data": {
      "text/plain": [
       "[7.14, 7.32]"
      ]
     },
     "execution_count": 98,
     "metadata": {},
     "output_type": "execute_result"
    }
   ],
   "source": [
    "secondval"
   ]
  },
  {
   "cell_type": "code",
   "execution_count": 99,
   "metadata": {},
   "outputs": [
    {
     "data": {
      "text/plain": [
       "[92.86, 92.68]"
      ]
     },
     "execution_count": 99,
     "metadata": {},
     "output_type": "execute_result"
    }
   ],
   "source": [
    "firstval"
   ]
  },
  {
   "cell_type": "code",
   "execution_count": 100,
   "metadata": {},
   "outputs": [],
   "source": [
    "firstval=[srace[0],sell[0],ses[0],sped[0]]"
   ]
  },
  {
   "cell_type": "code",
   "execution_count": 101,
   "metadata": {},
   "outputs": [
    {
     "data": {
      "text/plain": [
       "[31.71, 26.83, 29.27, 21.95]"
      ]
     },
     "execution_count": 101,
     "metadata": {},
     "output_type": "execute_result"
    }
   ],
   "source": [
    "secondval=[srace2[1],sell2[1],ses2[1],sped2[1]]\n",
    "secondval"
   ]
  },
  {
   "cell_type": "code",
   "execution_count": 102,
   "metadata": {},
   "outputs": [
    {
     "data": {
      "image/png": "[encoded data removed]",
      "text/plain": [
       "<Figure size 432x288 with 1 Axes>"
      ]
     },
     "metadata": {},
     "output_type": "display_data"
    }
   ],
   "source": [
    "\n",
    "from textwrap import wrap\n",
    "labels = term_val\n",
    "bar1=firstval\n",
    "bar2=secondval\n",
    "x = np.arange(len(labels))# the label locations\n",
    "#x=[0,1,2,3]\n",
    "\n",
    "width = 0.4  # the width of the bars\n",
    "\n",
    "fig, ax = plt.subplots()\n",
    "rects1 = ax.bar(x - width/2, bar1, width, label='Not Retained',color='blue')\n",
    "rects2 = ax.bar(x + width/2, bar2, width, label='Retained',color='red')\n",
    "\n",
    "# Add some text for labels, title and custom x-axis tick labels, etc.\n",
    "ax.set_ylabel('Percentage',color='black')\n",
    "#ax.set_title('Race of Teacher Ed Admittances, White vs. Other, 2018 vs. 2019 Subpop',fontsize=9)\n",
    "title = ax.set_title(\"\\n\".join(wrap(\"Retained - School Data Percentages\", 40)),fontsize=11)\n",
    "\n",
    "ax.set_xticks(x)\n",
    "plt.yticks(np.arange(0,101,10),color='black')\n",
    "ax.set_xticklabels(labels,color='black')\n",
    "#ax.legend(loc='upper right')\n",
    "\n",
    "\n",
    "def autolabel(rects):\n",
    "    for rect in rects:\n",
    "        height = rect.get_height()\n",
    "        ax.annotate('{}%'.format(height),\n",
    "                    xy=(rect.get_x() + rect.get_width() / 2, height),ha='center', va='bottom')\n",
    "\n",
    "\n",
    "autolabel(rects1)\n",
    "autolabel(rects2)\n",
    "\n",
    "fig.tight_layout()\n",
    "\n",
    "plt.show()"
   ]
  },
  {
   "cell_type": "code",
   "execution_count": 103,
   "metadata": {},
   "outputs": [
    {
     "data": {
      "text/plain": [
       "[31.71, 26.83, 29.27, 21.95]"
      ]
     },
     "execution_count": 103,
     "metadata": {},
     "output_type": "execute_result"
    }
   ],
   "source": [
    "secondval"
   ]
  },
  {
   "cell_type": "code",
   "execution_count": 104,
   "metadata": {},
   "outputs": [
    {
     "data": {
      "image/png": "[encoded data removed]",
      "text/plain": [
       "<Figure size 432x288 with 1 Axes>"
      ]
     },
     "metadata": {},
     "output_type": "display_data"
    }
   ],
   "source": [
    "from textwrap import wrap\n",
    "import matplotlib.patches as mpatches\n",
    "import matplotlib.pyplot as plt\n",
    "%matplotlib inline\n",
    "plt.style.use('ggplot')\n",
    "\n",
    "y_pos = np.arange(len(term_val)) \n",
    "\n",
    "#main values, change height value when necessary\n",
    "height=secondval\n",
    "width=0.4\n",
    "\n",
    "fig, ax = plt.subplots()\n",
    "rects1 = ax.bar(y_pos , height, width, color=['Yellow','Green','red','blue']) #bars colors\n",
    "\n",
    "#y-axis label, change the value in quotes when necessary\n",
    "ax.set_ylabel('Percentage',color='black')\n",
    "\n",
    "#Type in the title you want. Depending on where you want the next line change the number after the title\n",
    "ax.set_title(\"K12 Student Demographics: Students retained at First Placement\",fontsize=10)\n",
    " \n",
    "# Values on X and Y Axis\n",
    "plt.xticks(y_pos, term_val,color='black')\n",
    "#(inclusive,exclusive,countskip) change the yaxis values when necessary\n",
    "plt.yticks(np.arange(0,101,20),color='black')\n",
    "\n",
    "\n",
    "# Labels on top of bars\n",
    "def autolabel(rects):\n",
    "    for rect in rects:\n",
    "        height = rect.get_height()\n",
    "        ax.annotate('{}%'.format(height),\n",
    "                    xy=(rect.get_x() + rect.get_width() / 2, height),ha='center', va='bottom')\n",
    "autolabel(rects1)\n",
    "#fig.tight_layout()\n",
    "plt.show()\n"
   ]
  },
  {
   "cell_type": "code",
   "execution_count": 105,
   "metadata": {},
   "outputs": [
    {
     "ename": "NameError",
     "evalue": "name 'SchoolSheet4' is not defined",
     "output_type": "error",
     "traceback": [
      "\u001b[1;31m---------------------------------------------------------------------------\u001b[0m",
      "\u001b[1;31mNameError\u001b[0m                                 Traceback (most recent call last)",
      "\u001b[1;32m<ipython-input-105-c228fbd1cad9>\u001b[0m in \u001b[0;36m<module>\u001b[1;34m\u001b[0m\n\u001b[1;32m----> 1\u001b[1;33m \u001b[0mSchoolSheet4\u001b[0m\u001b[1;33m[\u001b[0m\u001b[1;34m'SPED'\u001b[0m\u001b[1;33m]\u001b[0m\u001b[1;33m.\u001b[0m\u001b[0mcount\u001b[0m\u001b[1;33m(\u001b[0m\u001b[1;33m)\u001b[0m\u001b[1;33m\u001b[0m\u001b[1;33m\u001b[0m\u001b[0m\n\u001b[0m",
      "\u001b[1;31mNameError\u001b[0m: name 'SchoolSheet4' is not defined"
     ]
    }
   ],
   "source": [
    "SchoolSheet4['SPED'].count()"
   ]
  },
  {
   "cell_type": "code",
   "execution_count": 106,
   "metadata": {},
   "outputs": [
    {
     "ename": "NameError",
     "evalue": "name 'SchoolSheet4' is not defined",
     "output_type": "error",
     "traceback": [
      "\u001b[1;31m---------------------------------------------------------------------------\u001b[0m",
      "\u001b[1;31mNameError\u001b[0m                                 Traceback (most recent call last)",
      "\u001b[1;32m<ipython-input-106-6a65f89ee1a8>\u001b[0m in \u001b[0;36m<module>\u001b[1;34m\u001b[0m\n\u001b[1;32m----> 1\u001b[1;33m \u001b[0mSchoolSheet4\u001b[0m\u001b[1;33m[\u001b[0m\u001b[1;34m'IEP_INCIDENCE_RATE'\u001b[0m\u001b[1;33m]\u001b[0m\u001b[1;33m.\u001b[0m\u001b[0mcount\u001b[0m\u001b[1;33m(\u001b[0m\u001b[1;33m)\u001b[0m\u001b[1;33m\u001b[0m\u001b[1;33m\u001b[0m\u001b[0m\n\u001b[0m",
      "\u001b[1;31mNameError\u001b[0m: name 'SchoolSheet4' is not defined"
     ]
    }
   ],
   "source": [
    "SchoolSheet4['IEP_INCIDENCE_RATE'].count()"
   ]
  },
  {
   "cell_type": "code",
   "execution_count": 107,
   "metadata": {},
   "outputs": [],
   "source": [
    "schoolwhite=SchoolSheet['ENROLLMENT_WHITE_PCT'].isin(['*',' ',0])\n",
    "SchoolSheet1=SchoolSheet[~schoolwhite]"
   ]
  },
  {
   "cell_type": "code",
   "execution_count": 108,
   "metadata": {},
   "outputs": [],
   "source": [
    "race_s=(SchoolSheet1['Race'].count()/SchoolSheet1['ENROLLMENT_WHITE_PCT'].count()*100).round(2)"
   ]
  },
  {
   "cell_type": "code",
   "execution_count": 109,
   "metadata": {},
   "outputs": [],
   "source": [
    "schoolELL=SchoolSheet['ENROLLMENT_ELL_LEP_PCT'].isin(['*',' ',0])\n",
    "SchoolSheet2=SchoolSheet[~schoolELL]"
   ]
  },
  {
   "cell_type": "code",
   "execution_count": 110,
   "metadata": {},
   "outputs": [],
   "source": [
    "ell_s=(SchoolSheet2['ELL'].count()/SchoolSheet2['ENROLLMENT_ELL_LEP_PCT'].count()*100).round(2)"
   ]
  },
  {
   "cell_type": "code",
   "execution_count": 111,
   "metadata": {},
   "outputs": [],
   "source": [
    "schoolLunch=SchoolSheet['LUNCH_COUNT_FREE_REDUCTED_PCT'].isin(['*',' ',0])\n",
    "SchoolSheet3=SchoolSheet[~schoolLunch]"
   ]
  },
  {
   "cell_type": "code",
   "execution_count": 112,
   "metadata": {},
   "outputs": [],
   "source": [
    "lunch_s=(SchoolSheet3['SES'].count()/SchoolSheet3['LUNCH_COUNT_FREE_REDUCTED_PCT'].count()*100).round(2)"
   ]
  },
  {
   "cell_type": "code",
   "execution_count": 113,
   "metadata": {},
   "outputs": [],
   "source": [
    "schoolIEP=SchoolSheet['IEP_INCIDENCE_RATE'].isin(['*',' ',0])\n",
    "SchoolSheet4=SchoolSheet[~schoolIEP]"
   ]
  },
  {
   "cell_type": "code",
   "execution_count": 114,
   "metadata": {},
   "outputs": [],
   "source": [
    "iep_s=(SchoolSheet4['SPED'].count()/SchoolSheet4['IEP_INCIDENCE_RATE'].count()*100).round(2)"
   ]
  },
  {
   "cell_type": "code",
   "execution_count": 115,
   "metadata": {},
   "outputs": [],
   "source": [
    "firstval=[race_s,ell_s,lunch_s,iep_s]"
   ]
  },
  {
   "cell_type": "code",
   "execution_count": 116,
   "metadata": {},
   "outputs": [
    {
     "data": {
      "text/plain": [
       "['% Racially Diverse', '% ELL', '% Free/Reduced Lunch', '% IEP']"
      ]
     },
     "execution_count": 116,
     "metadata": {},
     "output_type": "execute_result"
    }
   ],
   "source": [
    "term_val=['% Racially Diverse','% ELL','% Free/Reduced Lunch','% IEP']\n",
    "term_val"
   ]
  },
  {
   "cell_type": "code",
   "execution_count": 117,
   "metadata": {},
   "outputs": [
    {
     "data": {
      "image/png": "[encoded data removed]",
      "text/plain": [
       "<Figure size 432x288 with 1 Axes>"
      ]
     },
     "metadata": {},
     "output_type": "display_data"
    }
   ],
   "source": [
    "\n",
    "from textwrap import wrap\n",
    "labels = term_val\n",
    "bar1=firstval\n",
    "bar2=secondval\n",
    "x = np.arange(len(labels))# the label locations\n",
    "#x=[0,1,2,3]\n",
    "\n",
    "width = 0.4  # the width of the bars\n",
    "\n",
    "fig, ax = plt.subplots()\n",
    "rects2 = ax.bar(x + width/2, bar2, width, label='Northwest Retained (n=41; Retained=9)',color='green')\n",
    "rects1 = ax.bar(x - width/2, bar1, width, label='All Schools(n=844; Retained=342)',color='yellow')\n",
    "\n",
    "# Add some text for labels, title and custom x-axis tick labels, etc.\n",
    "#ax.set_ylabel('Percentage',color='black')\n",
    "#ax.set_title('Race of Teacher Ed Admittances, White vs. Other, 2018 vs. 2019 Subpop',fontsize=9)\n",
    "title = ax.set_title(\"\\n\".join(wrap(\"Students Retained at First Placement VS Diverese Schools\", 60)),fontsize=11)\n",
    "title=ax.set_title(\"Diverse Schools that employed 2016 completers:\\nAll Schools vs Schools where Northwest completers were retained\",fontsize=11)\n",
    "\n",
    "ax.set_xticks(x)\n",
    "plt.yticks(np.arange(0,101,10),color='black',labels=('0%','10%','20%','30%','40%','50%','60%','70%','80%','90%','100%'))\n",
    "ax.set_xticklabels(labels,color='black')\n",
    "ax.legend(loc='upper right')\n",
    "\n",
    "\n",
    "def autolabel(rects):\n",
    "    for rect in rects:\n",
    "        height = rect.get_height()\n",
    "        ax.annotate('{}%'.format(height),\n",
    "                    xy=(rect.get_x() + rect.get_width() / 2, height),ha='center', va='bottom',fontsize=9)\n",
    "\n",
    "\n",
    "autolabel(rects1)\n",
    "autolabel(rects2)\n",
    "\n",
    "fig.tight_layout()\n",
    "\n",
    "plt.show()"
   ]
  },
  {
   "cell_type": "code",
   "execution_count": 118,
   "metadata": {},
   "outputs": [],
   "source": [
    "ct1_2=MEESSheet['CT1.2'].mean()\n",
    "ct2_4=MEESSheet['CT2.4'].mean()\n",
    "ct5_1=MEESSheet['CT5.1'].mean()\n",
    "ct7_2=MEESSheet['CT7.2'].mean()"
   ]
  },
  {
   "cell_type": "code",
   "execution_count": null,
   "metadata": {},
   "outputs": [],
   "source": []
  },
  {
   "cell_type": "code",
   "execution_count": 119,
   "metadata": {},
   "outputs": [],
   "source": [
    "ct_scores=[ct1_2,ct2_4,ct5_1,ct7_2]"
   ]
  },
  {
   "cell_type": "code",
   "execution_count": 120,
   "metadata": {},
   "outputs": [],
   "source": [
    "ct_scores = list(np.around(np.array(ct_scores),2))"
   ]
  },
  {
   "cell_type": "code",
   "execution_count": 121,
   "metadata": {},
   "outputs": [],
   "source": [
    "term_val=['CT: Student engagement in subject matter ','CT: Differentiated lesson design','CT: Classroom management techniques','CT:Assessment data to improve learning']"
   ]
  },
  {
   "cell_type": "code",
   "execution_count": 122,
   "metadata": {},
   "outputs": [
    {
     "data": {
      "image/png": "[encoded data removed]",
      "text/plain": [
       "<Figure size 432x288 with 1 Axes>"
      ]
     },
     "metadata": {},
     "output_type": "display_data"
    }
   ],
   "source": [
    "from textwrap import wrap\n",
    "import matplotlib.patches as mpatches\n",
    "import matplotlib.pyplot as plt\n",
    "%matplotlib inline\n",
    "plt.style.use('ggplot')\n",
    "\n",
    "y_pos = np.arange(len(term_val)) \n",
    "\n",
    "#main values, change height value when necessary\n",
    "height=ct_scores\n",
    "width=0.4\n",
    "\n",
    "fig, ax = plt.subplots()\n",
    "rects1 = ax.bar(y_pos , height, width, color=['Yellow','Green','red','blue']) #bars colors\n",
    "\n",
    "#y-axis label, change the value in quotes when necessary\n",
    "ax.set_ylabel('Mean',color='black')\n",
    "\n",
    "#Type in the title you want. Depending on where you want the next line change the number after the title\n",
    "ax.set_title(\"\\n\".join(wrap(\"Mean of CT scores\", 55)),fontsize=11)\n",
    " \n",
    "# Values on X and Y Axis\n",
    "plt.xticks(y_pos, term_val,color='black',rotation=90)\n",
    "#(inclusive,exclusive,countskip) change the yaxis values when necessary\n",
    "plt.yticks(np.arange(0,4,1),color='black')\n",
    "\n",
    "\n",
    "# Labels on top of bars\n",
    "def autolabel(rects):\n",
    "    for rect in rects:\n",
    "        height = rect.get_height()\n",
    "        ax.annotate('{}'.format(height),\n",
    "                    xy=(rect.get_x() + rect.get_width() / 2, height),ha='center', va='bottom')\n",
    "autolabel(rects1)\n",
    "#fig.tight_layout()\n",
    "plt.show()\n"
   ]
  },
  {
   "cell_type": "code",
   "execution_count": 123,
   "metadata": {},
   "outputs": [
    {
     "data": {
      "image/png": "[encoded data removed]",
      "text/plain": [
       "<Figure size 432x288 with 1 Axes>"
      ]
     },
     "metadata": {},
     "output_type": "display_data"
    }
   ],
   "source": [
    "from textwrap import wrap \n",
    "# Make fake dataset\n",
    "height = ct_scores\n",
    "bars = term_val\n",
    "y_pos = np.arange(len(bars))\n",
    " \n",
    "# Create horizontal bars\n",
    "plt.barh(y_pos, height,color=['Yellow','Green','red','grey'])\n",
    "\n",
    "plt.title(\"\\n\".join(wrap(\"Average MEES as Scored by CT, received by Northwest AY2016 Completers Who Worked in Missouri Public Schools 2016-2019 (n=69)\", 70)),fontsize=11)\n",
    " \n",
    "# Create names on the y-axis\n",
    "plt.yticks(y_pos, bars,color='black')\n",
    "plt.xticks(np.arange(0,4,1),color='black')\n",
    "plt.xlabel('Mean',color='black')\n",
    "\n",
    "for i, v in enumerate(ct_scores):\n",
    "    #ax.text(v + 3, i + .25, str(v), color='black', fontweight='bold')\n",
    "    plt.text(v/2.2, i, \" \"+str(v), color='black', va='center', fontweight='bold')\n",
    "\n",
    "# Show graphic\n",
    "#fig.tight_layout()\n",
    "plt.show()\n"
   ]
  },
  {
   "cell_type": "code",
   "execution_count": null,
   "metadata": {},
   "outputs": [],
   "source": []
  },
  {
   "cell_type": "code",
   "execution_count": 124,
   "metadata": {},
   "outputs": [],
   "source": [
    "retained0_ct1_2=MEESSheet[MEESSheet['Retained']==0]['CT1.2'].mean()\n",
    "retained1_ct1_2=MEESSheet[MEESSheet['Retained']==1]['CT1.2'].mean()\n",
    "retained0_ct2_4=MEESSheet[MEESSheet['Retained']==0]['CT2.4'].mean()\n",
    "retained1_ct2_4=MEESSheet[MEESSheet['Retained']==1]['CT2.4'].mean()\n",
    "retained0_ct5_1=MEESSheet[MEESSheet['Retained']==0]['CT5.1'].mean()\n",
    "retained1_ct5_1=MEESSheet[MEESSheet['Retained']==1]['CT5.1'].mean()\n",
    "retained0_ct7_2=MEESSheet[MEESSheet['Retained']==0]['CT7.2'].mean()\n",
    "retained1_ct7_2=MEESSheet[MEESSheet['Retained']==1]['CT7.2'].mean()"
   ]
  },
  {
   "cell_type": "code",
   "execution_count": 125,
   "metadata": {},
   "outputs": [
    {
     "data": {
      "text/plain": [
       "2.6785714285714284"
      ]
     },
     "execution_count": 125,
     "metadata": {},
     "output_type": "execute_result"
    }
   ],
   "source": [
    "retained0_ct2_4"
   ]
  },
  {
   "cell_type": "code",
   "execution_count": 126,
   "metadata": {},
   "outputs": [
    {
     "data": {
      "text/plain": [
       "[33.87, 40.52, 42.16, 41.08]"
      ]
     },
     "execution_count": 126,
     "metadata": {},
     "output_type": "execute_result"
    }
   ],
   "source": [
    "firstval"
   ]
  },
  {
   "cell_type": "code",
   "execution_count": 127,
   "metadata": {},
   "outputs": [],
   "source": [
    "firstval=[retained0_ct1_2,retained0_ct2_4,retained0_ct5_1,retained0_ct7_2]\n",
    "secondval=[retained1_ct1_2,retained1_ct2_4,retained1_ct5_1,retained1_ct7_2]\n",
    "firstval = list(np.around(np.array(firstval),2))\n",
    "secondval = list(np.around(np.array(secondval),2))\n",
    "term_val=['CT: Student engagement in subject matter ','CT: Differentiated lesson design','CT: Classroom management techniques','CT:Assessment data to improve learning']"
   ]
  },
  {
   "cell_type": "markdown",
   "metadata": {},
   "source": [
    "\n",
    "from textwrap import wrap\n",
    "labels = term_val\n",
    "bar1=firstval\n",
    "bar2=secondval\n",
    "x = np.arange(len(labels))# the label locations\n",
    "#x=[0,1,2,3]\n",
    "\n",
    "width = 0.4  # the width of the bars\n",
    "\n",
    "fig, ax = plt.subplots()\n",
    "rects1 = ax.bar(x - width/2, bar1, width, label='Not Retained',color='yellow')\n",
    "rects2 = ax.bar(x + width/2, bar2, width, label='Retained',color='green')\n",
    "\n",
    "# Add some text for labels, title and custom x-axis tick labels, etc.\n",
    "ax.set_ylabel('Percentage',color='black')\n",
    "#ax.set_title('Race of Teacher Ed Admittances, White vs. Other, 2018 vs. 2019 Subpop',fontsize=9)\n",
    "title = ax.set_title(\"\\n\".join(wrap(\"Mean of CT Scores Disaggregated by Retained\", 30)),fontsize=11)\n",
    "\n",
    "ax.set_xticks(x)\n",
    "plt.yticks(np.arange(0,5,1),color='black')\n",
    "ax.set_xticklabels(labels,color='black',rotation=90)\n",
    "ax.legend(loc='upper left')\n",
    "\n",
    "\n",
    "def autolabel(rects):\n",
    "    for rect in rects:\n",
    "        height = rect.get_height()\n",
    "        ax.annotate('{}'.format(height),\n",
    "                    xy=(rect.get_x() + rect.get_width() / 2, height),ha='center', va='bottom')\n",
    "\n",
    "\n",
    "autolabel(rects1)\n",
    "autolabel(rects2)\n",
    "\n",
    "\n",
    "\n",
    "plt.show()"
   ]
  },
  {
   "cell_type": "code",
   "execution_count": 128,
   "metadata": {},
   "outputs": [
    {
     "data": {
      "image/png": "[encoded data removed]",
      "text/plain": [
       "<Figure size 432x288 with 1 Axes>"
      ]
     },
     "metadata": {},
     "output_type": "display_data"
    }
   ],
   "source": [
    "\n",
    "from textwrap import wrap\n",
    "labels = term_val\n",
    "bar1=firstval\n",
    "bar2=secondval\n",
    "x = np.arange(len(labels))# the label locations\n",
    "#x=[0,1,2,3]\n",
    "\n",
    "width = 0.4  # the width of the bars\n",
    "\n",
    "fig, ax = plt.subplots()\n",
    "rects2 = ax.barh(x + width/2, bar2, width, label='Retained',color='yellow')\n",
    "rects1 = ax.barh(x - width/2, bar1, width, label='Not Retained',color='red')\n",
    "\n",
    "\n",
    "# Add some text for labels, title and custom x-axis tick labels, etc.\n",
    "ax.set_xlabel('Mean',color='black')\n",
    "#ax.set_title('Race of Teacher Ed Admittances, White vs. Other, 2018 vs. 2019 Subpop',fontsize=9)\n",
    "title = ax.set_title(\"\\n\".join(wrap(\"Average MEES as Scored by CT, Teachers Retained in Initial Placement vs. Teachers Not Retained in Initial Placement, Northwest AY2016 Completers Who Worked in Missouri Public Schools 2016-2019 (n=69; Retained=41, Not Retained=28)\", 100)),fontsize=11)\n",
    "\n",
    "ax.set_xticks(x)\n",
    "ax.set_yticks(x)\n",
    "#plt.yticks(term_val,color='black')\n",
    "plt.xticks(np.arange(0,4,1),color='black')\n",
    "ax.set_xticklabels(np.arange(0,4,1),color='black')\n",
    "ax.set_yticklabels(labels,color='black')\n",
    "plt.legend( bbox_to_anchor=(1, 1))\n",
    "\n",
    "\n",
    "for i, v in enumerate(firstval):\n",
    "    plt.text(v/2, i- width/2, \"\"+str(v), color='black',va='center', fontweight='bold')        \n",
    "for i, v in enumerate(secondval):\n",
    "    plt.text(v/2, i+ width/2, \" \"+str(v), color='black', fontweight='bold')    \n",
    "\n",
    "#fig.tight_layout()\n",
    "plt.savefig('D:\\\\MEES_CT.png',bbox_inches='tight')\n",
    "plt.show()\n"
   ]
  },
  {
   "cell_type": "markdown",
   "metadata": {},
   "source": [
    "# T-Test for CT"
   ]
  },
  {
   "cell_type": "code",
   "execution_count": 129,
   "metadata": {},
   "outputs": [],
   "source": [
    "def independent_ttest(data1, data2, alpha):\n",
    "\t# calculate means\n",
    "\tmean1, mean2 = mean(data1), mean(data2)\n",
    "\t# calculate standard errors\n",
    "\tse1, se2 = sem(data1), sem(data2)\n",
    "\t# standard error on the difference between the samples\n",
    "\tsed = sqrt(se1**2.0 + se2**2.0)\n",
    "\t# calculate the t statistic\n",
    "\tt_stat = (mean1 - mean2) / sed\n",
    "\t# degrees of freedom\n",
    "\tdf = len(data1) + len(data2) - 2\n",
    "\t# calculate the critical value\n",
    "\tcv = t.ppf(1.0 - alpha, df)\n",
    "\t# calculate the p-value\n",
    "\tp = (1.0 - t.cdf(abs(t_stat), df)) * 2.0\n",
    "\t# return everything\n",
    "\treturn t_stat, df, cv, p"
   ]
  },
  {
   "cell_type": "code",
   "execution_count": 130,
   "metadata": {},
   "outputs": [],
   "source": [
    "retained0_ct2_4=MEESSheet[MEESSheet['Retained']==0]['CT2.4'].mean()\n",
    "retained1_ct2_4=MEESSheet[MEESSheet['Retained']==1]['CT2.4'].mean()\n",
    "retained0_ct5_1=MEESSheet[MEESSheet['Retained']==0]['CT5.1'].mean()\n",
    "retained1_ct5_1=MEESSheet[MEESSheet['Retained']==1]['CT5.1'].mean()\n",
    "retained0_ct7_2=MEESSheet[MEESSheet['Retained']==0]['CT7.2'].mean()\n",
    "retained1_ct7_2=MEESSheet[MEESSheet['Retained']==1]['CT7.2'].mean()"
   ]
  },
  {
   "cell_type": "code",
   "execution_count": 132,
   "metadata": {},
   "outputs": [],
   "source": [
    "import math\n",
    "from scipy.stats import t\n",
    "mean0=retained0_ct1_2\n",
    "mean1=retained1_ct1_2\n",
    "std0=MEESSheet[MEESSheet['Retained']==0]['CT1.2'].std(ddof=1)\n",
    "std1=MEESSheet[MEESSheet['Retained']==1]['CT1.2'].std(ddof=1)\n",
    "n0=MEESSheet[MEESSheet['Retained']==0]['CT1.2'].count()\n",
    "n1=MEESSheet[MEESSheet['Retained']==1]['CT1.2'].count()\n",
    "se0=std0/(math.sqrt(n0))\n",
    "se1=std1/(math.sqrt(n1))\n",
    "sed = math.sqrt(se0**2.0 + se1**2.0)\n",
    "t_stat = (mean1 - mean0) / sed\n",
    "df = n0 + n1 - 2\n",
    "alpha = 0.05\n",
    "cv = t.ppf(1.0 - alpha, df)\n",
    "p = (1 - t.cdf(abs(t_stat), df)) * 2"
   ]
  },
  {
   "cell_type": "code",
   "execution_count": 133,
   "metadata": {},
   "outputs": [
    {
     "data": {
      "text/plain": [
       "0.3315727203880141"
      ]
     },
     "execution_count": 133,
     "metadata": {},
     "output_type": "execute_result"
    }
   ],
   "source": [
    "p"
   ]
  },
  {
   "cell_type": "code",
   "execution_count": 134,
   "metadata": {},
   "outputs": [],
   "source": [
    "mean0=retained0_ct2_4\n",
    "mean1=retained1_ct2_4\n",
    "std0=MEESSheet[MEESSheet['Retained']==0]['CT2.4'].std(ddof=1)\n",
    "std1=MEESSheet[MEESSheet['Retained']==1]['CT2.4'].std(ddof=1)\n",
    "n0=MEESSheet[MEESSheet['Retained']==0]['CT2.4'].count()\n",
    "n1=MEESSheet[MEESSheet['Retained']==1]['CT2.4'].count()\n",
    "se0=std0/(math.sqrt(n0))\n",
    "se1=std1/(math.sqrt(n1))\n",
    "sed = math.sqrt(se0**2.0 + se1**2.0)\n",
    "t_stat = (mean1 - mean0) / sed\n",
    "df = n0 + n1 - 2\n",
    "alpha = 0.05\n",
    "cv = t.ppf(1.0 - alpha, df)\n",
    "p = (1 - t.cdf(abs(t_stat), df)) * 2"
   ]
  },
  {
   "cell_type": "code",
   "execution_count": 135,
   "metadata": {},
   "outputs": [
    {
     "data": {
      "text/plain": [
       "0.2247194831779702"
      ]
     },
     "execution_count": 135,
     "metadata": {},
     "output_type": "execute_result"
    }
   ],
   "source": [
    "p"
   ]
  },
  {
   "cell_type": "code",
   "execution_count": 136,
   "metadata": {},
   "outputs": [],
   "source": [
    "mean0=retained0_ct5_1\n",
    "mean1=retained1_ct5_1\n",
    "std0=MEESSheet[MEESSheet['Retained']==0]['CT5.1'].std(ddof=1)\n",
    "std1=MEESSheet[MEESSheet['Retained']==1]['CT5.1'].std(ddof=1)\n",
    "n0=MEESSheet[MEESSheet['Retained']==0]['CT5.1'].count()\n",
    "n1=MEESSheet[MEESSheet['Retained']==1]['CT5.1'].count()\n",
    "se0=std0/(math.sqrt(n0))\n",
    "se1=std1/(math.sqrt(n1))\n",
    "sed = math.sqrt(se0**2.0 + se1**2.0)\n",
    "t_stat = (mean1 - mean0) / sed\n",
    "df = n0 + n1 - 2\n",
    "alpha = 0.05\n",
    "cv = t.ppf(1.0 - alpha, df)\n",
    "p = (1 - t.cdf(abs(t_stat), df)) * 2"
   ]
  },
  {
   "cell_type": "code",
   "execution_count": 137,
   "metadata": {},
   "outputs": [
    {
     "data": {
      "text/plain": [
       "0.9616688656908219"
      ]
     },
     "execution_count": 137,
     "metadata": {},
     "output_type": "execute_result"
    }
   ],
   "source": [
    "p"
   ]
  },
  {
   "cell_type": "code",
   "execution_count": 142,
   "metadata": {},
   "outputs": [],
   "source": [
    "mean0=retained0_ct7_2\n",
    "mean1=retained1_ct7_2\n",
    "std0=MEESSheet[MEESSheet['Retained']==0]['CT7.2'].std()\n",
    "std1=MEESSheet[MEESSheet['Retained']==1]['CT7.2'].std()\n",
    "n0=MEESSheet[MEESSheet['Retained']==0]['CT7.2'].count()\n",
    "n1=MEESSheet[MEESSheet['Retained']==1]['CT7.2'].count()\n",
    "se0=std0/(math.sqrt(n0))\n",
    "se1=std1/(math.sqrt(n1))\n",
    "sed = math.sqrt(se0**2.0 + se1**2.0)\n",
    "t_stat = (mean1 - mean0) / sed\n",
    "df = n0 + n1 - 2\n",
    "alpha = 0.05\n",
    "cv = t.ppf(1.0 - alpha, df)\n",
    "p = (1 - t.cdf(abs(t_stat), df)) * 2"
   ]
  },
  {
   "cell_type": "code",
   "execution_count": 143,
   "metadata": {},
   "outputs": [
    {
     "data": {
      "text/plain": [
       "0.032367230650512946"
      ]
     },
     "execution_count": 143,
     "metadata": {},
     "output_type": "execute_result"
    }
   ],
   "source": [
    "p"
   ]
  },
  {
   "cell_type": "code",
   "execution_count": 138,
   "metadata": {},
   "outputs": [
    {
     "data": {
      "text/plain": [
       "63"
      ]
     },
     "execution_count": 138,
     "metadata": {},
     "output_type": "execute_result"
    }
   ],
   "source": [
    "MEESSheet['PS7.2'].count()"
   ]
  },
  {
   "cell_type": "code",
   "execution_count": 139,
   "metadata": {},
   "outputs": [],
   "source": [
    "ps1_2=MEESSheet['PS1.2'].mean()\n",
    "ps2_4=MEESSheet['PS2.4'].mean()\n",
    "ps5_1=MEESSheet['PS5.1'].mean()\n",
    "ps7_2=MEESSheet['PS7.2'].mean()"
   ]
  },
  {
   "cell_type": "code",
   "execution_count": 140,
   "metadata": {},
   "outputs": [],
   "source": [
    "ps_scores=[ps1_2,ps2_4,ps5_1,ps7_2]"
   ]
  },
  {
   "cell_type": "code",
   "execution_count": 141,
   "metadata": {},
   "outputs": [],
   "source": [
    "ps_scores = list(np.around(np.array(ps_scores),2))"
   ]
  },
  {
   "cell_type": "code",
   "execution_count": 142,
   "metadata": {},
   "outputs": [],
   "source": [
    "term_val=['US: Student engagement in subject matter ','US: Differentiated lesson design','US: Classroom management techniques','US:Assessment data to improve learning']"
   ]
  },
  {
   "cell_type": "code",
   "execution_count": 143,
   "metadata": {},
   "outputs": [
    {
     "data": {
      "image/png": "[encoded data removed]",
      "text/plain": [
       "<Figure size 432x288 with 1 Axes>"
      ]
     },
     "metadata": {},
     "output_type": "display_data"
    }
   ],
   "source": [
    "from textwrap import wrap\n",
    "import matplotlib.patches as mpatches\n",
    "import matplotlib.pyplot as plt\n",
    "%matplotlib inline\n",
    "plt.style.use('ggplot')\n",
    "\n",
    "y_pos = np.arange(len(term_val)) \n",
    "\n",
    "#main values, change height value when necessary\n",
    "height=ps_scores\n",
    "width=0.4\n",
    "\n",
    "fig, ax = plt.subplots()\n",
    "rects1 = ax.bar(y_pos , height, width, color=['Yellow','Green','red','blue']) #bars colors\n",
    "\n",
    "#y-axis label, change the value in quotes when necessary\n",
    "ax.set_ylabel('Mean',color='black')\n",
    "\n",
    "#Type in the title you want. Depending on where you want the next line change the number after the title\n",
    "ax.set_title(\"\\n\".join(wrap(\"Mean of US scores\", 55)),fontsize=11)\n",
    " \n",
    "# Values on X and Y Axis\n",
    "plt.xticks(y_pos, term_val,color='black',rotation=90)\n",
    "#(inclusive,exclusive,countskip) change the yaxis values when necessary\n",
    "plt.yticks(np.arange(0,5,1),color='black')\n",
    "\n",
    "\n",
    "# Labels on top of bars\n",
    "def autolabel(rects):\n",
    "    for rect in rects:\n",
    "        height = rect.get_height()\n",
    "        ax.annotate('{}'.format(height),\n",
    "                    xy=(rect.get_x() + rect.get_width() / 2, height),ha='center', va='bottom')\n",
    "autolabel(rects1)\n",
    "#fig.tight_layout()\n",
    "plt.show()\n"
   ]
  },
  {
   "cell_type": "code",
   "execution_count": 144,
   "metadata": {},
   "outputs": [
    {
     "data": {
      "image/png": "[encoded data removed]",
      "text/plain": [
       "<Figure size 432x288 with 1 Axes>"
      ]
     },
     "metadata": {},
     "output_type": "display_data"
    }
   ],
   "source": [
    "from textwrap import wrap \n",
    "# Make fake dataset\n",
    "height = ps_scores\n",
    "bars = term_val\n",
    "y_pos = np.arange(len(bars))\n",
    " \n",
    "# Create horizontal bars\n",
    "plt.barh(y_pos, height,color=['Yellow','Green','red','grey'])\n",
    "\n",
    "plt.title(\"\\n\".join(wrap(\"Average MEES as Scored by US, received by Northwest AY2016 Completers Who Worked in Missouri Public Schools 2016-2019 (n=63,69,65,62 respectively)\", 55)),fontsize=11)\n",
    " \n",
    "# Create names on the y-axis\n",
    "plt.yticks(y_pos, bars,color='black')\n",
    "plt.xticks(np.arange(0,4,1),color='black')\n",
    "plt.xlabel('Mean',color='black')\n",
    "\n",
    "for i, v in enumerate(ps_scores):\n",
    "    #ax.text(v + 3, i + .25, str(v), color='black', fontweight='bold')\n",
    "    plt.text(v/2.2, i, \" \"+str(v), color='black', va='center', fontweight='bold')\n",
    "\n",
    "# Show graphic\n",
    "fig.tight_layout()\n",
    "plt.show()\n"
   ]
  },
  {
   "cell_type": "code",
   "execution_count": null,
   "metadata": {},
   "outputs": [],
   "source": []
  },
  {
   "cell_type": "code",
   "execution_count": 281,
   "metadata": {},
   "outputs": [
    {
     "data": {
      "text/plain": [
       "27"
      ]
     },
     "execution_count": 281,
     "metadata": {},
     "output_type": "execute_result"
    }
   ],
   "source": [
    "MEESSheet[MEESSheet['Retained']==0]['PS1.2'].count()"
   ]
  },
  {
   "cell_type": "code",
   "execution_count": 276,
   "metadata": {},
   "outputs": [],
   "source": [
    "retained0_ps1_2=MEESSheet[MEESSheet['Retained']==0]['PS1.2'].mean()\n",
    "retained1_ps1_2=MEESSheet[MEESSheet['Retained']==1]['PS1.2'].mean()\n",
    "retained0_ps2_4=MEESSheet[MEESSheet['Retained']==0]['PS2.4'].mean()\n",
    "retained1_ps2_4=MEESSheet[MEESSheet['Retained']==1]['PS2.4'].mean()\n",
    "retained0_ps5_1=MEESSheet[MEESSheet['Retained']==0]['PS5.1'].mean()\n",
    "retained1_ps5_1=MEESSheet[MEESSheet['Retained']==1]['PS5.1'].mean()\n",
    "retained0_ps7_2=MEESSheet[MEESSheet['Retained']==0]['PS7.2'].mean()\n",
    "retained1_ps7_2=MEESSheet[MEESSheet['Retained']==1]['PS7.2'].mean()"
   ]
  },
  {
   "cell_type": "code",
   "execution_count": 277,
   "metadata": {},
   "outputs": [],
   "source": [
    "firstval=[retained0_ps1_2,retained0_ps2_4,retained0_ps5_1,retained0_ps7_2]\n",
    "secondval=[retained1_ps1_2,retained1_ps2_4,retained1_ps5_1,retained1_ps7_2]\n",
    "firstval = list(np.around(np.array(firstval),2))\n",
    "secondval = list(np.around(np.array(secondval),2))\n",
    "term_val=['US: Student engagement in subject matter ','US: Differentiated lesson design','US: Classroom management techniques','US:Assessment data to improve learning']"
   ]
  },
  {
   "cell_type": "code",
   "execution_count": 278,
   "metadata": {},
   "outputs": [
    {
     "data": {
      "image/png": "[encoded data removed]",
      "text/plain": [
       "<Figure size 432x288 with 1 Axes>"
      ]
     },
     "metadata": {},
     "output_type": "display_data"
    }
   ],
   "source": [
    "\n",
    "from textwrap import wrap\n",
    "labels = term_val\n",
    "bar1=firstval\n",
    "bar2=secondval\n",
    "x = np.arange(len(labels))# the label locations\n",
    "#x=[0,1,2,3]\n",
    "\n",
    "width = 0.4  # the width of the bars\n",
    "\n",
    "fig, ax = plt.subplots()\n",
    "rects1 = ax.bar(x - width/2, bar1, width, label='Not Retained',color='yellow')\n",
    "rects2 = ax.bar(x + width/2, bar2, width, label='Retained',color='green')\n",
    "\n",
    "# Add some text for labels, title and custom x-axis tick labels, etc.\n",
    "ax.set_ylabel('Percentage',color='black')\n",
    "#ax.set_title('Race of Teacher Ed Admittances, White vs. Other, 2018 vs. 2019 Subpop',fontsize=9)\n",
    "title = ax.set_title(\"\\n\".join(wrap(\"Mean of US Scores Disaggregated by Retained\", 30)),fontsize=11)\n",
    "\n",
    "ax.set_xticks(x)\n",
    "plt.yticks(np.arange(0,5,1),color='black')\n",
    "ax.set_xticklabels(labels,color='black',rotation=90)\n",
    "ax.legend(loc='upper left')\n",
    "\n",
    "\n",
    "def autolabel(rects):\n",
    "    for rect in rects:\n",
    "        height = rect.get_height()\n",
    "        ax.annotate('{}'.format(height),\n",
    "                    xy=(rect.get_x() + rect.get_width() / 2, height),ha='center', va='bottom')\n",
    "\n",
    "\n",
    "autolabel(rects1)\n",
    "autolabel(rects2)\n",
    "\n",
    "\n",
    "\n",
    "plt.show()"
   ]
  },
  {
   "cell_type": "code",
   "execution_count": 282,
   "metadata": {},
   "outputs": [
    {
     "data": {
      "image/png": "[encoded data removed]",
      "text/plain": [
       "<Figure size 432x288 with 1 Axes>"
      ]
     },
     "metadata": {},
     "output_type": "display_data"
    }
   ],
   "source": [
    "\n",
    "from textwrap import wrap\n",
    "labels = term_val\n",
    "bar1=firstval\n",
    "bar2=secondval\n",
    "x = np.arange(len(labels))# the label locations\n",
    "#x=[0,1,2,3]\n",
    "\n",
    "width = 0.4  # the width of the bars\n",
    "\n",
    "fig, ax = plt.subplots()\n",
    "rects2 = ax.barh(x + width/2, bar2, width, label='Retained',color='yellow')\n",
    "rects1 = ax.barh(x - width/2, bar1, width, label='Not Retained',color='red')\n",
    "\n",
    "\n",
    "# Add some text for labels, title and custom x-axis tick labels, etc.\n",
    "ax.set_xlabel('Mean',color='black')\n",
    "#ax.set_title('Race of Teacher Ed Admittances, White vs. Other, 2018 vs. 2019 Subpop',fontsize=9)\n",
    "title = ax.set_title(\"\\n\".join(wrap(\"Average MEES as Scored by US, Teachers Retained in Initial Placement vs. Teachers Not Retained in Initial Placement, Northwest AY2016 Completers Who Worked in Missouri Public Schools 2016-2019 (n=62; Retained=35, Not Retained=27)\", 100)),fontsize=11)\n",
    "\n",
    "ax.set_xticks(x)\n",
    "ax.set_yticks(x)\n",
    "#plt.yticks(term_val,color='black')\n",
    "plt.xticks(np.arange(0,4,1),color='black')\n",
    "ax.set_xticklabels(np.arange(0,4,1),color='black')\n",
    "ax.set_yticklabels(labels,color='black')\n",
    "plt.legend( bbox_to_anchor=(1, 1))\n",
    "\n",
    "\n",
    "for i, v in enumerate(firstval):\n",
    "    plt.text(v/2, i- width/2, \"\"+str(v), color='black',va='center', fontweight='bold')        \n",
    "for i, v in enumerate(secondval):\n",
    "    plt.text(v/2, i+ width/2, \" \"+str(v), color='black', fontweight='bold')    \n",
    "\n",
    "\n",
    "plt.show()"
   ]
  },
  {
   "cell_type": "code",
   "execution_count": null,
   "metadata": {},
   "outputs": [],
   "source": []
  },
  {
   "cell_type": "code",
   "execution_count": null,
   "metadata": {},
   "outputs": [],
   "source": []
  },
  {
   "cell_type": "code",
   "execution_count": null,
   "metadata": {},
   "outputs": [],
   "source": []
  },
  {
   "cell_type": "code",
   "execution_count": null,
   "metadata": {},
   "outputs": [],
   "source": []
  },
  {
   "cell_type": "code",
   "execution_count": null,
   "metadata": {},
   "outputs": [],
   "source": []
  }
 ],
 "metadata": {
  "kernelspec": {
   "display_name": "Python 3",
   "language": "python",
   "name": "python3"
  },
  "language_info": {
   "codemirror_mode": {
    "name": "ipython",
    "version": 3
   },
   "file_extension": ".py",
   "mimetype": "text/x-python",
   "name": "python",
   "nbconvert_exporter": "python",
   "pygments_lexer": "ipython3",
   "version": "3.7.4"
  }
 },
 "nbformat": 4,
 "nbformat_minor": 2
}
